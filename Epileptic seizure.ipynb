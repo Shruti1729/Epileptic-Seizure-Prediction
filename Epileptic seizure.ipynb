{
 "cells": [
  {
   "cell_type": "markdown",
   "metadata": {},
   "source": [
    "# EPILEPTIC SEIZURE PROJECT "
   ]
  },
  {
   "cell_type": "markdown",
   "metadata": {},
   "source": [
    "Objective: Categorize brain activity to recognize an actual Epileptic Seizure"
   ]
  },
  {
   "cell_type": "markdown",
   "metadata": {},
   "source": [
    "# Importing Libraries"
   ]
  },
  {
   "cell_type": "code",
   "execution_count": 1,
   "metadata": {},
   "outputs": [],
   "source": [
    "import pandas as pd\n",
    "import numpy as np\n",
    "import seaborn as sns\n",
    "import warnings \n",
    "warnings.filterwarnings(\"ignore\")\n",
    "from sklearn import svm\n",
    "import matplotlib.pyplot as plt\n",
    "from sklearn.linear_model import LinearRegression\n",
    "from sklearn.model_selection import train_test_split\n",
    "from sklearn.preprocessing import StandardScaler\n",
    "from sklearn.decomposition import PCA\n",
    "from sklearn.metrics import r2_score\n",
    "from sklearn.decomposition import KernelPCA\n",
    "from sklearn.model_selection import cross_val_score\n",
    "from sklearn.tree import DecisionTreeClassifier\n",
    "from sklearn.metrics import accuracy_score\n",
    "from sklearn.metrics import confusion_matrix\n",
    "from sklearn.metrics import classification_report\n",
    "from sklearn.ensemble import RandomForestClassifier"
   ]
  },
  {
   "cell_type": "markdown",
   "metadata": {},
   "source": [
    "# About the data"
   ]
  },
  {
   "cell_type": "markdown",
   "metadata": {},
   "source": [
    "The response variable is y in column 179, the Explanatory variables X1, X2, ..., X178\n",
    "\n",
    "y contains the category of the 178-dimensional input vector. Specifically y in {1, 2, 3, 4, 5}:\n",
    "\n",
    "5 - eyes open, means when they were recording the EEG signal of the brain the patient had their eyes open\n",
    "\n",
    "4 - eyes closed, means when they were recording the EEG signal the patient had their eyes closed\n",
    "\n",
    "3 - Yes they identify where the region of the tumor was in the brain and recording the EEG activity from the healthy brain area\n",
    "\n",
    "2 - They recorder the EEG from the area where the tumor was located\n",
    "\n",
    "1 - Recording of seizure activity\n",
    "\n",
    "Data and data description source: http://archive.ics.uci.edu/ml/datasets/Epileptic+Seizure+Recognition"
   ]
  },
  {
   "cell_type": "markdown",
   "metadata": {},
   "source": [
    "# Loading data"
   ]
  },
  {
   "cell_type": "code",
   "execution_count": 2,
   "metadata": {},
   "outputs": [],
   "source": [
    "epi=pd.read_csv('data.csv')"
   ]
  },
  {
   "cell_type": "markdown",
   "metadata": {},
   "source": [
    "# Taking a look at data"
   ]
  },
  {
   "cell_type": "code",
   "execution_count": 3,
   "metadata": {
    "scrolled": true
   },
   "outputs": [
    {
     "data": {
      "text/html": [
       "<div>\n",
       "<style scoped>\n",
       "    .dataframe tbody tr th:only-of-type {\n",
       "        vertical-align: middle;\n",
       "    }\n",
       "\n",
       "    .dataframe tbody tr th {\n",
       "        vertical-align: top;\n",
       "    }\n",
       "\n",
       "    .dataframe thead th {\n",
       "        text-align: right;\n",
       "    }\n",
       "</style>\n",
       "<table border=\"1\" class=\"dataframe\">\n",
       "  <thead>\n",
       "    <tr style=\"text-align: right;\">\n",
       "      <th></th>\n",
       "      <th>Unnamed: 0</th>\n",
       "      <th>X1</th>\n",
       "      <th>X2</th>\n",
       "      <th>X3</th>\n",
       "      <th>X4</th>\n",
       "      <th>X5</th>\n",
       "      <th>X6</th>\n",
       "      <th>X7</th>\n",
       "      <th>X8</th>\n",
       "      <th>X9</th>\n",
       "      <th>...</th>\n",
       "      <th>X170</th>\n",
       "      <th>X171</th>\n",
       "      <th>X172</th>\n",
       "      <th>X173</th>\n",
       "      <th>X174</th>\n",
       "      <th>X175</th>\n",
       "      <th>X176</th>\n",
       "      <th>X177</th>\n",
       "      <th>X178</th>\n",
       "      <th>y</th>\n",
       "    </tr>\n",
       "  </thead>\n",
       "  <tbody>\n",
       "    <tr>\n",
       "      <th>0</th>\n",
       "      <td>X21.V1.791</td>\n",
       "      <td>135</td>\n",
       "      <td>190</td>\n",
       "      <td>229</td>\n",
       "      <td>223</td>\n",
       "      <td>192</td>\n",
       "      <td>125</td>\n",
       "      <td>55</td>\n",
       "      <td>-9</td>\n",
       "      <td>-33</td>\n",
       "      <td>...</td>\n",
       "      <td>-17</td>\n",
       "      <td>-15</td>\n",
       "      <td>-31</td>\n",
       "      <td>-77</td>\n",
       "      <td>-103</td>\n",
       "      <td>-127</td>\n",
       "      <td>-116</td>\n",
       "      <td>-83</td>\n",
       "      <td>-51</td>\n",
       "      <td>4</td>\n",
       "    </tr>\n",
       "    <tr>\n",
       "      <th>1</th>\n",
       "      <td>X15.V1.924</td>\n",
       "      <td>386</td>\n",
       "      <td>382</td>\n",
       "      <td>356</td>\n",
       "      <td>331</td>\n",
       "      <td>320</td>\n",
       "      <td>315</td>\n",
       "      <td>307</td>\n",
       "      <td>272</td>\n",
       "      <td>244</td>\n",
       "      <td>...</td>\n",
       "      <td>164</td>\n",
       "      <td>150</td>\n",
       "      <td>146</td>\n",
       "      <td>152</td>\n",
       "      <td>157</td>\n",
       "      <td>156</td>\n",
       "      <td>154</td>\n",
       "      <td>143</td>\n",
       "      <td>129</td>\n",
       "      <td>1</td>\n",
       "    </tr>\n",
       "    <tr>\n",
       "      <th>2</th>\n",
       "      <td>X8.V1.1</td>\n",
       "      <td>-32</td>\n",
       "      <td>-39</td>\n",
       "      <td>-47</td>\n",
       "      <td>-37</td>\n",
       "      <td>-32</td>\n",
       "      <td>-36</td>\n",
       "      <td>-57</td>\n",
       "      <td>-73</td>\n",
       "      <td>-85</td>\n",
       "      <td>...</td>\n",
       "      <td>57</td>\n",
       "      <td>64</td>\n",
       "      <td>48</td>\n",
       "      <td>19</td>\n",
       "      <td>-12</td>\n",
       "      <td>-30</td>\n",
       "      <td>-35</td>\n",
       "      <td>-35</td>\n",
       "      <td>-36</td>\n",
       "      <td>5</td>\n",
       "    </tr>\n",
       "    <tr>\n",
       "      <th>3</th>\n",
       "      <td>X16.V1.60</td>\n",
       "      <td>-105</td>\n",
       "      <td>-101</td>\n",
       "      <td>-96</td>\n",
       "      <td>-92</td>\n",
       "      <td>-89</td>\n",
       "      <td>-95</td>\n",
       "      <td>-102</td>\n",
       "      <td>-100</td>\n",
       "      <td>-87</td>\n",
       "      <td>...</td>\n",
       "      <td>-82</td>\n",
       "      <td>-81</td>\n",
       "      <td>-80</td>\n",
       "      <td>-77</td>\n",
       "      <td>-85</td>\n",
       "      <td>-77</td>\n",
       "      <td>-72</td>\n",
       "      <td>-69</td>\n",
       "      <td>-65</td>\n",
       "      <td>5</td>\n",
       "    </tr>\n",
       "    <tr>\n",
       "      <th>4</th>\n",
       "      <td>X20.V1.54</td>\n",
       "      <td>-9</td>\n",
       "      <td>-65</td>\n",
       "      <td>-98</td>\n",
       "      <td>-102</td>\n",
       "      <td>-78</td>\n",
       "      <td>-48</td>\n",
       "      <td>-16</td>\n",
       "      <td>0</td>\n",
       "      <td>-21</td>\n",
       "      <td>...</td>\n",
       "      <td>4</td>\n",
       "      <td>2</td>\n",
       "      <td>-12</td>\n",
       "      <td>-32</td>\n",
       "      <td>-41</td>\n",
       "      <td>-65</td>\n",
       "      <td>-83</td>\n",
       "      <td>-89</td>\n",
       "      <td>-73</td>\n",
       "      <td>5</td>\n",
       "    </tr>\n",
       "  </tbody>\n",
       "</table>\n",
       "<p>5 rows × 180 columns</p>\n",
       "</div>"
      ],
      "text/plain": [
       "   Unnamed: 0   X1   X2   X3   X4   X5   X6   X7   X8   X9  ...  X170  X171  \\\n",
       "0  X21.V1.791  135  190  229  223  192  125   55   -9  -33  ...   -17   -15   \n",
       "1  X15.V1.924  386  382  356  331  320  315  307  272  244  ...   164   150   \n",
       "2     X8.V1.1  -32  -39  -47  -37  -32  -36  -57  -73  -85  ...    57    64   \n",
       "3   X16.V1.60 -105 -101  -96  -92  -89  -95 -102 -100  -87  ...   -82   -81   \n",
       "4   X20.V1.54   -9  -65  -98 -102  -78  -48  -16    0  -21  ...     4     2   \n",
       "\n",
       "   X172  X173  X174  X175  X176  X177  X178  y  \n",
       "0   -31   -77  -103  -127  -116   -83   -51  4  \n",
       "1   146   152   157   156   154   143   129  1  \n",
       "2    48    19   -12   -30   -35   -35   -36  5  \n",
       "3   -80   -77   -85   -77   -72   -69   -65  5  \n",
       "4   -12   -32   -41   -65   -83   -89   -73  5  \n",
       "\n",
       "[5 rows x 180 columns]"
      ]
     },
     "execution_count": 3,
     "metadata": {},
     "output_type": "execute_result"
    }
   ],
   "source": [
    "epi.head(5)"
   ]
  },
  {
   "cell_type": "markdown",
   "metadata": {},
   "source": [
    "# Statistics"
   ]
  },
  {
   "cell_type": "code",
   "execution_count": 4,
   "metadata": {},
   "outputs": [
    {
     "data": {
      "text/html": [
       "<div>\n",
       "<style scoped>\n",
       "    .dataframe tbody tr th:only-of-type {\n",
       "        vertical-align: middle;\n",
       "    }\n",
       "\n",
       "    .dataframe tbody tr th {\n",
       "        vertical-align: top;\n",
       "    }\n",
       "\n",
       "    .dataframe thead th {\n",
       "        text-align: right;\n",
       "    }\n",
       "</style>\n",
       "<table border=\"1\" class=\"dataframe\">\n",
       "  <thead>\n",
       "    <tr style=\"text-align: right;\">\n",
       "      <th></th>\n",
       "      <th>X1</th>\n",
       "      <th>X2</th>\n",
       "      <th>X3</th>\n",
       "      <th>X4</th>\n",
       "      <th>X5</th>\n",
       "      <th>X6</th>\n",
       "      <th>X7</th>\n",
       "      <th>X8</th>\n",
       "      <th>X9</th>\n",
       "      <th>X10</th>\n",
       "      <th>...</th>\n",
       "      <th>X170</th>\n",
       "      <th>X171</th>\n",
       "      <th>X172</th>\n",
       "      <th>X173</th>\n",
       "      <th>X174</th>\n",
       "      <th>X175</th>\n",
       "      <th>X176</th>\n",
       "      <th>X177</th>\n",
       "      <th>X178</th>\n",
       "      <th>y</th>\n",
       "    </tr>\n",
       "  </thead>\n",
       "  <tbody>\n",
       "    <tr>\n",
       "      <th>count</th>\n",
       "      <td>11500.000000</td>\n",
       "      <td>11500.000000</td>\n",
       "      <td>11500.000000</td>\n",
       "      <td>11500.000000</td>\n",
       "      <td>11500.000000</td>\n",
       "      <td>11500.000000</td>\n",
       "      <td>11500.000000</td>\n",
       "      <td>11500.00000</td>\n",
       "      <td>11500.00000</td>\n",
       "      <td>11500.000000</td>\n",
       "      <td>...</td>\n",
       "      <td>11500.000000</td>\n",
       "      <td>11500.000000</td>\n",
       "      <td>11500.000000</td>\n",
       "      <td>11500.000000</td>\n",
       "      <td>11500.000000</td>\n",
       "      <td>11500.000000</td>\n",
       "      <td>11500.000000</td>\n",
       "      <td>11500.000000</td>\n",
       "      <td>11500.000000</td>\n",
       "      <td>11500.000000</td>\n",
       "    </tr>\n",
       "    <tr>\n",
       "      <th>mean</th>\n",
       "      <td>-11.581391</td>\n",
       "      <td>-10.911565</td>\n",
       "      <td>-10.187130</td>\n",
       "      <td>-9.143043</td>\n",
       "      <td>-8.009739</td>\n",
       "      <td>-7.003478</td>\n",
       "      <td>-6.502087</td>\n",
       "      <td>-6.68713</td>\n",
       "      <td>-6.55800</td>\n",
       "      <td>-6.168435</td>\n",
       "      <td>...</td>\n",
       "      <td>-10.145739</td>\n",
       "      <td>-11.630348</td>\n",
       "      <td>-12.943478</td>\n",
       "      <td>-13.668870</td>\n",
       "      <td>-13.363304</td>\n",
       "      <td>-13.045043</td>\n",
       "      <td>-12.705130</td>\n",
       "      <td>-12.426000</td>\n",
       "      <td>-12.195652</td>\n",
       "      <td>3.000000</td>\n",
       "    </tr>\n",
       "    <tr>\n",
       "      <th>std</th>\n",
       "      <td>165.626284</td>\n",
       "      <td>166.059609</td>\n",
       "      <td>163.524317</td>\n",
       "      <td>161.269041</td>\n",
       "      <td>160.998007</td>\n",
       "      <td>161.328725</td>\n",
       "      <td>161.467837</td>\n",
       "      <td>162.11912</td>\n",
       "      <td>162.03336</td>\n",
       "      <td>160.436352</td>\n",
       "      <td>...</td>\n",
       "      <td>164.652883</td>\n",
       "      <td>166.149790</td>\n",
       "      <td>168.554058</td>\n",
       "      <td>168.556486</td>\n",
       "      <td>167.257290</td>\n",
       "      <td>164.241019</td>\n",
       "      <td>162.895832</td>\n",
       "      <td>162.886311</td>\n",
       "      <td>164.852015</td>\n",
       "      <td>1.414275</td>\n",
       "    </tr>\n",
       "    <tr>\n",
       "      <th>min</th>\n",
       "      <td>-1839.000000</td>\n",
       "      <td>-1838.000000</td>\n",
       "      <td>-1835.000000</td>\n",
       "      <td>-1845.000000</td>\n",
       "      <td>-1791.000000</td>\n",
       "      <td>-1757.000000</td>\n",
       "      <td>-1832.000000</td>\n",
       "      <td>-1778.00000</td>\n",
       "      <td>-1840.00000</td>\n",
       "      <td>-1867.000000</td>\n",
       "      <td>...</td>\n",
       "      <td>-1867.000000</td>\n",
       "      <td>-1865.000000</td>\n",
       "      <td>-1642.000000</td>\n",
       "      <td>-1723.000000</td>\n",
       "      <td>-1866.000000</td>\n",
       "      <td>-1863.000000</td>\n",
       "      <td>-1781.000000</td>\n",
       "      <td>-1727.000000</td>\n",
       "      <td>-1829.000000</td>\n",
       "      <td>1.000000</td>\n",
       "    </tr>\n",
       "    <tr>\n",
       "      <th>25%</th>\n",
       "      <td>-54.000000</td>\n",
       "      <td>-55.000000</td>\n",
       "      <td>-54.000000</td>\n",
       "      <td>-54.000000</td>\n",
       "      <td>-54.000000</td>\n",
       "      <td>-54.000000</td>\n",
       "      <td>-54.000000</td>\n",
       "      <td>-55.00000</td>\n",
       "      <td>-55.00000</td>\n",
       "      <td>-54.000000</td>\n",
       "      <td>...</td>\n",
       "      <td>-55.000000</td>\n",
       "      <td>-56.000000</td>\n",
       "      <td>-56.000000</td>\n",
       "      <td>-56.000000</td>\n",
       "      <td>-55.000000</td>\n",
       "      <td>-56.000000</td>\n",
       "      <td>-55.000000</td>\n",
       "      <td>-55.000000</td>\n",
       "      <td>-55.000000</td>\n",
       "      <td>2.000000</td>\n",
       "    </tr>\n",
       "    <tr>\n",
       "      <th>50%</th>\n",
       "      <td>-8.000000</td>\n",
       "      <td>-8.000000</td>\n",
       "      <td>-7.000000</td>\n",
       "      <td>-8.000000</td>\n",
       "      <td>-8.000000</td>\n",
       "      <td>-8.000000</td>\n",
       "      <td>-8.000000</td>\n",
       "      <td>-8.00000</td>\n",
       "      <td>-7.00000</td>\n",
       "      <td>-7.000000</td>\n",
       "      <td>...</td>\n",
       "      <td>-9.000000</td>\n",
       "      <td>-10.000000</td>\n",
       "      <td>-10.000000</td>\n",
       "      <td>-10.000000</td>\n",
       "      <td>-10.000000</td>\n",
       "      <td>-9.000000</td>\n",
       "      <td>-9.000000</td>\n",
       "      <td>-9.000000</td>\n",
       "      <td>-9.000000</td>\n",
       "      <td>3.000000</td>\n",
       "    </tr>\n",
       "    <tr>\n",
       "      <th>75%</th>\n",
       "      <td>34.000000</td>\n",
       "      <td>35.000000</td>\n",
       "      <td>36.000000</td>\n",
       "      <td>36.000000</td>\n",
       "      <td>35.000000</td>\n",
       "      <td>36.000000</td>\n",
       "      <td>35.000000</td>\n",
       "      <td>36.00000</td>\n",
       "      <td>36.00000</td>\n",
       "      <td>35.250000</td>\n",
       "      <td>...</td>\n",
       "      <td>34.000000</td>\n",
       "      <td>34.000000</td>\n",
       "      <td>33.000000</td>\n",
       "      <td>33.000000</td>\n",
       "      <td>34.000000</td>\n",
       "      <td>34.000000</td>\n",
       "      <td>34.000000</td>\n",
       "      <td>34.000000</td>\n",
       "      <td>34.000000</td>\n",
       "      <td>4.000000</td>\n",
       "    </tr>\n",
       "    <tr>\n",
       "      <th>max</th>\n",
       "      <td>1726.000000</td>\n",
       "      <td>1713.000000</td>\n",
       "      <td>1697.000000</td>\n",
       "      <td>1612.000000</td>\n",
       "      <td>1518.000000</td>\n",
       "      <td>1816.000000</td>\n",
       "      <td>2047.000000</td>\n",
       "      <td>2047.00000</td>\n",
       "      <td>2047.00000</td>\n",
       "      <td>2047.000000</td>\n",
       "      <td>...</td>\n",
       "      <td>1777.000000</td>\n",
       "      <td>1472.000000</td>\n",
       "      <td>1319.000000</td>\n",
       "      <td>1436.000000</td>\n",
       "      <td>1733.000000</td>\n",
       "      <td>1958.000000</td>\n",
       "      <td>2047.000000</td>\n",
       "      <td>2047.000000</td>\n",
       "      <td>1915.000000</td>\n",
       "      <td>5.000000</td>\n",
       "    </tr>\n",
       "  </tbody>\n",
       "</table>\n",
       "<p>8 rows × 179 columns</p>\n",
       "</div>"
      ],
      "text/plain": [
       "                 X1            X2            X3            X4            X5  \\\n",
       "count  11500.000000  11500.000000  11500.000000  11500.000000  11500.000000   \n",
       "mean     -11.581391    -10.911565    -10.187130     -9.143043     -8.009739   \n",
       "std      165.626284    166.059609    163.524317    161.269041    160.998007   \n",
       "min    -1839.000000  -1838.000000  -1835.000000  -1845.000000  -1791.000000   \n",
       "25%      -54.000000    -55.000000    -54.000000    -54.000000    -54.000000   \n",
       "50%       -8.000000     -8.000000     -7.000000     -8.000000     -8.000000   \n",
       "75%       34.000000     35.000000     36.000000     36.000000     35.000000   \n",
       "max     1726.000000   1713.000000   1697.000000   1612.000000   1518.000000   \n",
       "\n",
       "                 X6            X7           X8           X9           X10  \\\n",
       "count  11500.000000  11500.000000  11500.00000  11500.00000  11500.000000   \n",
       "mean      -7.003478     -6.502087     -6.68713     -6.55800     -6.168435   \n",
       "std      161.328725    161.467837    162.11912    162.03336    160.436352   \n",
       "min    -1757.000000  -1832.000000  -1778.00000  -1840.00000  -1867.000000   \n",
       "25%      -54.000000    -54.000000    -55.00000    -55.00000    -54.000000   \n",
       "50%       -8.000000     -8.000000     -8.00000     -7.00000     -7.000000   \n",
       "75%       36.000000     35.000000     36.00000     36.00000     35.250000   \n",
       "max     1816.000000   2047.000000   2047.00000   2047.00000   2047.000000   \n",
       "\n",
       "       ...          X170          X171          X172          X173  \\\n",
       "count  ...  11500.000000  11500.000000  11500.000000  11500.000000   \n",
       "mean   ...    -10.145739    -11.630348    -12.943478    -13.668870   \n",
       "std    ...    164.652883    166.149790    168.554058    168.556486   \n",
       "min    ...  -1867.000000  -1865.000000  -1642.000000  -1723.000000   \n",
       "25%    ...    -55.000000    -56.000000    -56.000000    -56.000000   \n",
       "50%    ...     -9.000000    -10.000000    -10.000000    -10.000000   \n",
       "75%    ...     34.000000     34.000000     33.000000     33.000000   \n",
       "max    ...   1777.000000   1472.000000   1319.000000   1436.000000   \n",
       "\n",
       "               X174          X175          X176          X177          X178  \\\n",
       "count  11500.000000  11500.000000  11500.000000  11500.000000  11500.000000   \n",
       "mean     -13.363304    -13.045043    -12.705130    -12.426000    -12.195652   \n",
       "std      167.257290    164.241019    162.895832    162.886311    164.852015   \n",
       "min    -1866.000000  -1863.000000  -1781.000000  -1727.000000  -1829.000000   \n",
       "25%      -55.000000    -56.000000    -55.000000    -55.000000    -55.000000   \n",
       "50%      -10.000000     -9.000000     -9.000000     -9.000000     -9.000000   \n",
       "75%       34.000000     34.000000     34.000000     34.000000     34.000000   \n",
       "max     1733.000000   1958.000000   2047.000000   2047.000000   1915.000000   \n",
       "\n",
       "                  y  \n",
       "count  11500.000000  \n",
       "mean       3.000000  \n",
       "std        1.414275  \n",
       "min        1.000000  \n",
       "25%        2.000000  \n",
       "50%        3.000000  \n",
       "75%        4.000000  \n",
       "max        5.000000  \n",
       "\n",
       "[8 rows x 179 columns]"
      ]
     },
     "execution_count": 4,
     "metadata": {},
     "output_type": "execute_result"
    }
   ],
   "source": [
    "epi.describe()"
   ]
  },
  {
   "cell_type": "markdown",
   "metadata": {},
   "source": [
    "# Descriptive Data Analytics"
   ]
  },
  {
   "cell_type": "code",
   "execution_count": 5,
   "metadata": {},
   "outputs": [],
   "source": [
    "# droping the Unnamed:0 column\n",
    "epi.drop('Unnamed: 0',axis=1,inplace=True)"
   ]
  },
  {
   "cell_type": "code",
   "execution_count": 6,
   "metadata": {},
   "outputs": [
    {
     "name": "stdout",
     "output_type": "stream",
     "text": [
      "(11500, 179)\n"
     ]
    }
   ],
   "source": [
    "print(epi.shape)"
   ]
  },
  {
   "cell_type": "code",
   "execution_count": 7,
   "metadata": {},
   "outputs": [
    {
     "data": {
      "text/plain": [
       "False"
      ]
     },
     "execution_count": 7,
     "metadata": {},
     "output_type": "execute_result"
    }
   ],
   "source": [
    "# Finding not null values\n",
    "epi.isnull().values.any()"
   ]
  },
  {
   "cell_type": "code",
   "execution_count": 8,
   "metadata": {},
   "outputs": [
    {
     "data": {
      "image/png": "[encoded data removed]",
      "text/plain": [
       "<Figure size 432x288 with 1 Axes>"
      ]
     },
     "metadata": {
      "needs_background": "light"
     },
     "output_type": "display_data"
    }
   ],
   "source": [
    "ax = sns.countplot(x= epi['y'], data=epi,label = \"Count\")"
   ]
  },
  {
   "cell_type": "code",
   "execution_count": 9,
   "metadata": {},
   "outputs": [
    {
     "data": {
      "text/plain": [
       "(11500, 178)"
      ]
     },
     "execution_count": 9,
     "metadata": {},
     "output_type": "execute_result"
    }
   ],
   "source": [
    "#Feature set\n",
    "X = epi.iloc[:,1:179].values\n",
    "X.shape"
   ]
  },
  {
   "cell_type": "code",
   "execution_count": 10,
   "metadata": {},
   "outputs": [
    {
     "data": {
      "image/png": "[encoded data removed]",
      "text/plain": [
       "<Figure size 432x288 with 1 Axes>"
      ]
     },
     "metadata": {
      "needs_background": "light"
     },
     "output_type": "display_data"
    }
   ],
   "source": [
    "# plotting an epileptic wave form \n",
    "plt.plot(range(178), epi.iloc[11499,0:178])\n",
    "plt.show()"
   ]
  },
  {
   "cell_type": "code",
   "execution_count": 11,
   "metadata": {},
   "outputs": [
    {
     "data": {
      "text/plain": [
       "Text(0.5, 0, 'Samples')"
      ]
     },
     "execution_count": 11,
     "metadata": {},
     "output_type": "execute_result"
    },
    {
     "data": {
      "image/png": "[encoded data removed]",
      "text/plain": [
       "<Figure size 432x288 with 5 Axes>"
      ]
     },
     "metadata": {
      "needs_background": "light"
     },
     "output_type": "display_data"
    }
   ],
   "source": [
    "#plotting the first record of each category\n",
    "plt.subplot(511)\n",
    "plt.plot(X[1,:])\n",
    "plt.title('Classes')\n",
    "plt.ylabel('uV')\n",
    "plt.subplot(512)\n",
    "plt.plot(X[7,:])\n",
    "plt.subplot(513)\n",
    "plt.plot(X[12,:])\n",
    "plt.subplot(514)\n",
    "plt.plot(X[0,:])\n",
    "plt.subplot(515)\n",
    "plt.plot(X[2,:])\n",
    "plt.xlabel('Samples')"
   ]
  },
  {
   "cell_type": "code",
   "execution_count": 12,
   "metadata": {},
   "outputs": [
    {
     "data": {
      "image/png": "[encoded data removed]",
      "text/plain": [
       "<Figure size 864x576 with 1 Axes>"
      ]
     },
     "metadata": {
      "needs_background": "light"
     },
     "output_type": "display_data"
    }
   ],
   "source": [
    "#plotting the first record of each category\n",
    "plt.figure(figsize=(12,8))\n",
    "plt.plot(X[1,:],label='1')\n",
    "plt.plot(X[7,:],label='2')\n",
    "plt.plot(X[12,:],label='3')\n",
    "plt.plot(X[0,:],label='4')\n",
    "plt.plot(X[2,:],label='5')\n",
    "plt.legend()\n",
    "plt.show()"
   ]
  },
  {
   "cell_type": "code",
   "execution_count": 13,
   "metadata": {},
   "outputs": [
    {
     "data": {
      "text/plain": [
       "<matplotlib.axes._subplots.AxesSubplot at 0x268a17b5ba8>"
      ]
     },
     "execution_count": 13,
     "metadata": {},
     "output_type": "execute_result"
    },
    {
     "data": {
      "image/png": "[encoded data removed]",
      "text/plain": [
       "<Figure size 720x576 with 2 Axes>"
      ]
     },
     "metadata": {
      "needs_background": "light"
     },
     "output_type": "display_data"
    }
   ],
   "source": [
    "plt.figure(figsize=(10,8))\n",
    "Corr=epi[epi.columns].corr()\n",
    "sns.heatmap(Corr,cmap=\"Blues\")"
   ]
  },
  {
   "cell_type": "markdown",
   "metadata": {},
   "source": [
    "# Training"
   ]
  },
  {
   "cell_type": "code",
   "execution_count": 14,
   "metadata": {},
   "outputs": [],
   "source": [
    "X = epi.drop('y',axis=1)\n",
    "y = epi['y']"
   ]
  },
  {
   "cell_type": "code",
   "execution_count": 15,
   "metadata": {},
   "outputs": [],
   "source": [
    "X_train, X_test, y_train, y_test = train_test_split(X, y, test_size=0.30, random_state=1)"
   ]
  },
  {
   "cell_type": "markdown",
   "metadata": {},
   "source": [
    "# Decision Tree"
   ]
  },
  {
   "cell_type": "code",
   "execution_count": 16,
   "metadata": {},
   "outputs": [],
   "source": [
    "Dt = DecisionTreeClassifier()\n",
    "Dt.fit(X_train,y_train)\n",
    "pred_t=Dt.predict(X_test)"
   ]
  },
  {
   "cell_type": "code",
   "execution_count": 17,
   "metadata": {},
   "outputs": [
    {
     "name": "stdout",
     "output_type": "stream",
     "text": [
      "Accuracy score for Decision tree:  0.47507246376811596\n"
     ]
    }
   ],
   "source": [
    "print(\"Accuracy score for Decision tree: \",accuracy_score(y_test,pred_t))"
   ]
  },
  {
   "cell_type": "markdown",
   "metadata": {},
   "source": [
    "# SVM"
   ]
  },
  {
   "cell_type": "code",
   "execution_count": 18,
   "metadata": {},
   "outputs": [],
   "source": [
    "svc = svm.SVC()\n",
    "svc.fit(X_train,y_train)\n",
    "pred_s=svc.predict(X_test)"
   ]
  },
  {
   "cell_type": "code",
   "execution_count": 19,
   "metadata": {},
   "outputs": [
    {
     "name": "stdout",
     "output_type": "stream",
     "text": [
      "Accuracy score for SVM:  0.1907246376811594\n"
     ]
    }
   ],
   "source": [
    "print(\"Accuracy score for SVM: \",accuracy_score(y_test,pred_s))"
   ]
  },
  {
   "cell_type": "markdown",
   "metadata": {},
   "source": [
    "# Random Forest"
   ]
  },
  {
   "cell_type": "code",
   "execution_count": 20,
   "metadata": {},
   "outputs": [],
   "source": [
    "rf=RandomForestClassifier(n_estimators=90)\n",
    "rf.fit(X_train,y_train)\n",
    "pre_r=rf.predict(X_test)"
   ]
  },
  {
   "cell_type": "code",
   "execution_count": 21,
   "metadata": {},
   "outputs": [
    {
     "name": "stdout",
     "output_type": "stream",
     "text": [
      "Accuracy score for Random Forest:  0.6895652173913044\n"
     ]
    }
   ],
   "source": [
    "print(\"Accuracy score for Random Forest: \",accuracy_score(y_test,pre_r))"
   ]
  },
  {
   "cell_type": "markdown",
   "metadata": {},
   "source": [
    "# Standardization"
   ]
  },
  {
   "cell_type": "code",
   "execution_count": 22,
   "metadata": {
    "scrolled": true
   },
   "outputs": [
    {
     "data": {
      "text/html": [
       "<div>\n",
       "<style scoped>\n",
       "    .dataframe tbody tr th:only-of-type {\n",
       "        vertical-align: middle;\n",
       "    }\n",
       "\n",
       "    .dataframe tbody tr th {\n",
       "        vertical-align: top;\n",
       "    }\n",
       "\n",
       "    .dataframe thead th {\n",
       "        text-align: right;\n",
       "    }\n",
       "</style>\n",
       "<table border=\"1\" class=\"dataframe\">\n",
       "  <thead>\n",
       "    <tr style=\"text-align: right;\">\n",
       "      <th></th>\n",
       "      <th>0</th>\n",
       "      <th>1</th>\n",
       "      <th>2</th>\n",
       "      <th>3</th>\n",
       "      <th>4</th>\n",
       "      <th>5</th>\n",
       "      <th>6</th>\n",
       "      <th>7</th>\n",
       "      <th>8</th>\n",
       "      <th>9</th>\n",
       "      <th>...</th>\n",
       "      <th>168</th>\n",
       "      <th>169</th>\n",
       "      <th>170</th>\n",
       "      <th>171</th>\n",
       "      <th>172</th>\n",
       "      <th>173</th>\n",
       "      <th>174</th>\n",
       "      <th>175</th>\n",
       "      <th>176</th>\n",
       "      <th>177</th>\n",
       "    </tr>\n",
       "  </thead>\n",
       "  <tbody>\n",
       "    <tr>\n",
       "      <th>0</th>\n",
       "      <td>0.885051</td>\n",
       "      <td>1.209929</td>\n",
       "      <td>1.462764</td>\n",
       "      <td>1.439539</td>\n",
       "      <td>1.242366</td>\n",
       "      <td>0.818262</td>\n",
       "      <td>0.380910</td>\n",
       "      <td>-0.014267</td>\n",
       "      <td>-0.163196</td>\n",
       "      <td>-0.198415</td>\n",
       "      <td>...</td>\n",
       "      <td>0.105907</td>\n",
       "      <td>-0.041630</td>\n",
       "      <td>-0.020282</td>\n",
       "      <td>-0.107131</td>\n",
       "      <td>-0.375743</td>\n",
       "      <td>-0.535944</td>\n",
       "      <td>-0.693858</td>\n",
       "      <td>-0.634144</td>\n",
       "      <td>-0.433290</td>\n",
       "      <td>-0.235399</td>\n",
       "    </tr>\n",
       "    <tr>\n",
       "      <th>1</th>\n",
       "      <td>2.400577</td>\n",
       "      <td>2.366190</td>\n",
       "      <td>2.239441</td>\n",
       "      <td>2.109257</td>\n",
       "      <td>2.037441</td>\n",
       "      <td>1.996033</td>\n",
       "      <td>1.941660</td>\n",
       "      <td>1.719102</td>\n",
       "      <td>1.546403</td>\n",
       "      <td>1.484569</td>\n",
       "      <td>...</td>\n",
       "      <td>1.074264</td>\n",
       "      <td>1.057700</td>\n",
       "      <td>0.972841</td>\n",
       "      <td>0.943023</td>\n",
       "      <td>0.982911</td>\n",
       "      <td>1.018615</td>\n",
       "      <td>1.029295</td>\n",
       "      <td>1.023429</td>\n",
       "      <td>0.954241</td>\n",
       "      <td>0.856537</td>\n",
       "    </tr>\n",
       "    <tr>\n",
       "      <th>2</th>\n",
       "      <td>-0.123287</td>\n",
       "      <td>-0.169154</td>\n",
       "      <td>-0.225131</td>\n",
       "      <td>-0.172743</td>\n",
       "      <td>-0.149016</td>\n",
       "      <td>-0.179743</td>\n",
       "      <td>-0.312756</td>\n",
       "      <td>-0.409056</td>\n",
       "      <td>-0.484131</td>\n",
       "      <td>-0.547478</td>\n",
       "      <td>...</td>\n",
       "      <td>0.233004</td>\n",
       "      <td>0.407820</td>\n",
       "      <td>0.455214</td>\n",
       "      <td>0.361582</td>\n",
       "      <td>0.193824</td>\n",
       "      <td>0.008151</td>\n",
       "      <td>-0.103237</td>\n",
       "      <td>-0.136872</td>\n",
       "      <td>-0.138593</td>\n",
       "      <td>-0.144405</td>\n",
       "    </tr>\n",
       "    <tr>\n",
       "      <th>3</th>\n",
       "      <td>-0.564057</td>\n",
       "      <td>-0.542530</td>\n",
       "      <td>-0.524794</td>\n",
       "      <td>-0.513803</td>\n",
       "      <td>-0.503073</td>\n",
       "      <td>-0.545472</td>\n",
       "      <td>-0.591462</td>\n",
       "      <td>-0.575607</td>\n",
       "      <td>-0.496475</td>\n",
       "      <td>-0.453979</td>\n",
       "      <td>...</td>\n",
       "      <td>-0.426689</td>\n",
       "      <td>-0.436417</td>\n",
       "      <td>-0.417531</td>\n",
       "      <td>-0.397851</td>\n",
       "      <td>-0.375743</td>\n",
       "      <td>-0.428321</td>\n",
       "      <td>-0.389414</td>\n",
       "      <td>-0.364021</td>\n",
       "      <td>-0.347337</td>\n",
       "      <td>-0.320328</td>\n",
       "    </tr>\n",
       "    <tr>\n",
       "      <th>4</th>\n",
       "      <td>0.015586</td>\n",
       "      <td>-0.325731</td>\n",
       "      <td>-0.537025</td>\n",
       "      <td>-0.575814</td>\n",
       "      <td>-0.434746</td>\n",
       "      <td>-0.254129</td>\n",
       "      <td>-0.058825</td>\n",
       "      <td>0.041250</td>\n",
       "      <td>-0.089134</td>\n",
       "      <td>-0.329314</td>\n",
       "      <td>...</td>\n",
       "      <td>0.118012</td>\n",
       "      <td>0.085916</td>\n",
       "      <td>0.082040</td>\n",
       "      <td>0.005598</td>\n",
       "      <td>-0.108758</td>\n",
       "      <td>-0.165242</td>\n",
       "      <td>-0.316347</td>\n",
       "      <td>-0.431551</td>\n",
       "      <td>-0.470127</td>\n",
       "      <td>-0.368858</td>\n",
       "    </tr>\n",
       "    <tr>\n",
       "      <th>5</th>\n",
       "      <td>0.402015</td>\n",
       "      <td>0.234333</td>\n",
       "      <td>0.172380</td>\n",
       "      <td>0.155914</td>\n",
       "      <td>0.149137</td>\n",
       "      <td>0.161190</td>\n",
       "      <td>0.195107</td>\n",
       "      <td>0.287993</td>\n",
       "      <td>0.361410</td>\n",
       "      <td>0.449846</td>\n",
       "      <td>...</td>\n",
       "      <td>0.021176</td>\n",
       "      <td>-0.011262</td>\n",
       "      <td>-0.116585</td>\n",
       "      <td>-0.172394</td>\n",
       "      <td>-0.239284</td>\n",
       "      <td>-0.278844</td>\n",
       "      <td>-0.310258</td>\n",
       "      <td>-0.290351</td>\n",
       "      <td>-0.267523</td>\n",
       "      <td>-0.259664</td>\n",
       "    </tr>\n",
       "    <tr>\n",
       "      <th>6</th>\n",
       "      <td>-0.262159</td>\n",
       "      <td>0.011512</td>\n",
       "      <td>0.380309</td>\n",
       "      <td>0.745018</td>\n",
       "      <td>0.888309</td>\n",
       "      <td>0.843058</td>\n",
       "      <td>0.678196</td>\n",
       "      <td>0.485387</td>\n",
       "      <td>0.268833</td>\n",
       "      <td>0.038450</td>\n",
       "      <td>...</td>\n",
       "      <td>-0.771666</td>\n",
       "      <td>-0.697584</td>\n",
       "      <td>-0.525872</td>\n",
       "      <td>-0.391918</td>\n",
       "      <td>-0.286748</td>\n",
       "      <td>-0.165242</td>\n",
       "      <td>-0.078881</td>\n",
       "      <td>0.145530</td>\n",
       "      <td>0.487637</td>\n",
       "      <td>0.850470</td>\n",
       "    </tr>\n",
       "    <tr>\n",
       "      <th>7</th>\n",
       "      <td>0.075966</td>\n",
       "      <td>0.053667</td>\n",
       "      <td>0.013376</td>\n",
       "      <td>-0.011515</td>\n",
       "      <td>-0.024786</td>\n",
       "      <td>-0.061966</td>\n",
       "      <td>-0.052631</td>\n",
       "      <td>-0.057447</td>\n",
       "      <td>-0.070618</td>\n",
       "      <td>-0.067516</td>\n",
       "      <td>...</td>\n",
       "      <td>-0.348010</td>\n",
       "      <td>-0.418196</td>\n",
       "      <td>-0.477720</td>\n",
       "      <td>-0.498713</td>\n",
       "      <td>-0.441006</td>\n",
       "      <td>-0.374509</td>\n",
       "      <td>-0.358970</td>\n",
       "      <td>-0.327186</td>\n",
       "      <td>-0.273663</td>\n",
       "      <td>-0.162603</td>\n",
       "    </tr>\n",
       "    <tr>\n",
       "      <th>8</th>\n",
       "      <td>-1.608623</td>\n",
       "      <td>-1.415749</td>\n",
       "      <td>-1.252546</td>\n",
       "      <td>-1.127711</td>\n",
       "      <td>-1.049688</td>\n",
       "      <td>-0.991785</td>\n",
       "      <td>-0.932102</td>\n",
       "      <td>-0.816181</td>\n",
       "      <td>-0.687802</td>\n",
       "      <td>-0.535012</td>\n",
       "      <td>...</td>\n",
       "      <td>-2.278671</td>\n",
       "      <td>-2.367837</td>\n",
       "      <td>-2.211171</td>\n",
       "      <td>-1.916718</td>\n",
       "      <td>-1.586072</td>\n",
       "      <td>-1.271370</td>\n",
       "      <td>-0.980035</td>\n",
       "      <td>-0.689396</td>\n",
       "      <td>-0.408732</td>\n",
       "      <td>-0.168670</td>\n",
       "    </tr>\n",
       "    <tr>\n",
       "      <th>9</th>\n",
       "      <td>0.118231</td>\n",
       "      <td>0.156045</td>\n",
       "      <td>0.141802</td>\n",
       "      <td>0.075300</td>\n",
       "      <td>0.012484</td>\n",
       "      <td>-0.006177</td>\n",
       "      <td>0.009303</td>\n",
       "      <td>0.065924</td>\n",
       "      <td>0.194771</td>\n",
       "      <td>0.294014</td>\n",
       "      <td>...</td>\n",
       "      <td>0.450884</td>\n",
       "      <td>0.359230</td>\n",
       "      <td>0.256589</td>\n",
       "      <td>0.142058</td>\n",
       "      <td>0.051432</td>\n",
       "      <td>-0.021744</td>\n",
       "      <td>-0.036259</td>\n",
       "      <td>-0.014089</td>\n",
       "      <td>-0.015803</td>\n",
       "      <td>0.007253</td>\n",
       "    </tr>\n",
       "    <tr>\n",
       "      <th>10</th>\n",
       "      <td>0.039738</td>\n",
       "      <td>0.156045</td>\n",
       "      <td>0.233536</td>\n",
       "      <td>0.230327</td>\n",
       "      <td>0.105656</td>\n",
       "      <td>-0.136352</td>\n",
       "      <td>-0.213661</td>\n",
       "      <td>-0.075953</td>\n",
       "      <td>0.126881</td>\n",
       "      <td>0.225448</td>\n",
       "      <td>...</td>\n",
       "      <td>-0.251174</td>\n",
       "      <td>-0.169177</td>\n",
       "      <td>0.045927</td>\n",
       "      <td>0.225121</td>\n",
       "      <td>0.176025</td>\n",
       "      <td>-0.015765</td>\n",
       "      <td>-0.371147</td>\n",
       "      <td>-0.542056</td>\n",
       "      <td>-0.470127</td>\n",
       "      <td>-0.223267</td>\n",
       "    </tr>\n",
       "    <tr>\n",
       "      <th>11</th>\n",
       "      <td>-0.938410</td>\n",
       "      <td>-1.319393</td>\n",
       "      <td>-1.650058</td>\n",
       "      <td>-1.896646</td>\n",
       "      <td>-2.049743</td>\n",
       "      <td>-2.243942</td>\n",
       "      <td>-2.468078</td>\n",
       "      <td>-2.376830</td>\n",
       "      <td>-1.798733</td>\n",
       "      <td>-0.834209</td>\n",
       "      <td>...</td>\n",
       "      <td>2.569164</td>\n",
       "      <td>2.630774</td>\n",
       "      <td>2.682217</td>\n",
       "      <td>2.544953</td>\n",
       "      <td>2.300034</td>\n",
       "      <td>1.987224</td>\n",
       "      <td>1.711249</td>\n",
       "      <td>1.397918</td>\n",
       "      <td>1.089310</td>\n",
       "      <td>0.698813</td>\n",
       "    </tr>\n",
       "    <tr>\n",
       "      <th>12</th>\n",
       "      <td>0.625419</td>\n",
       "      <td>0.360799</td>\n",
       "      <td>0.062300</td>\n",
       "      <td>-0.141738</td>\n",
       "      <td>-0.267035</td>\n",
       "      <td>-0.359508</td>\n",
       "      <td>-0.188887</td>\n",
       "      <td>-0.075953</td>\n",
       "      <td>-0.113821</td>\n",
       "      <td>-0.142315</td>\n",
       "      <td>...</td>\n",
       "      <td>-0.426689</td>\n",
       "      <td>-0.278503</td>\n",
       "      <td>-0.176774</td>\n",
       "      <td>-0.160528</td>\n",
       "      <td>-0.174021</td>\n",
       "      <td>-0.111430</td>\n",
       "      <td>0.000274</td>\n",
       "      <td>0.071860</td>\n",
       "      <td>0.033313</td>\n",
       "      <td>-0.192935</td>\n",
       "    </tr>\n",
       "    <tr>\n",
       "      <th>13</th>\n",
       "      <td>0.160497</td>\n",
       "      <td>0.137978</td>\n",
       "      <td>0.062300</td>\n",
       "      <td>-0.048722</td>\n",
       "      <td>-0.124170</td>\n",
       "      <td>-0.148749</td>\n",
       "      <td>-0.201274</td>\n",
       "      <td>-0.273347</td>\n",
       "      <td>-0.231086</td>\n",
       "      <td>-0.179715</td>\n",
       "      <td>...</td>\n",
       "      <td>-0.251174</td>\n",
       "      <td>-0.472859</td>\n",
       "      <td>-0.543928</td>\n",
       "      <td>-0.498713</td>\n",
       "      <td>-0.375743</td>\n",
       "      <td>-0.189158</td>\n",
       "      <td>-0.036259</td>\n",
       "      <td>0.157808</td>\n",
       "      <td>0.346428</td>\n",
       "      <td>0.486492</td>\n",
       "    </tr>\n",
       "    <tr>\n",
       "      <th>14</th>\n",
       "      <td>-0.074983</td>\n",
       "      <td>-0.024621</td>\n",
       "      <td>0.031722</td>\n",
       "      <td>0.050496</td>\n",
       "      <td>0.074599</td>\n",
       "      <td>0.062009</td>\n",
       "      <td>0.077431</td>\n",
       "      <td>0.102936</td>\n",
       "      <td>0.108365</td>\n",
       "      <td>0.082082</td>\n",
       "      <td>...</td>\n",
       "      <td>0.257213</td>\n",
       "      <td>0.255978</td>\n",
       "      <td>0.280665</td>\n",
       "      <td>0.290385</td>\n",
       "      <td>0.282819</td>\n",
       "      <td>0.271230</td>\n",
       "      <td>0.237740</td>\n",
       "      <td>0.219199</td>\n",
       "      <td>0.186801</td>\n",
       "      <td>0.195309</td>\n",
       "    </tr>\n",
       "    <tr>\n",
       "      <th>15</th>\n",
       "      <td>-0.745196</td>\n",
       "      <td>-0.735240</td>\n",
       "      <td>-0.702145</td>\n",
       "      <td>-0.675032</td>\n",
       "      <td>-0.639727</td>\n",
       "      <td>-0.607460</td>\n",
       "      <td>-0.591462</td>\n",
       "      <td>-0.532427</td>\n",
       "      <td>-0.539678</td>\n",
       "      <td>-0.522545</td>\n",
       "      <td>...</td>\n",
       "      <td>-0.287488</td>\n",
       "      <td>-0.235987</td>\n",
       "      <td>-0.164736</td>\n",
       "      <td>-0.130863</td>\n",
       "      <td>-0.090959</td>\n",
       "      <td>0.020109</td>\n",
       "      <td>0.103785</td>\n",
       "      <td>0.206921</td>\n",
       "      <td>0.266615</td>\n",
       "      <td>0.298436</td>\n",
       "    </tr>\n",
       "    <tr>\n",
       "      <th>16</th>\n",
       "      <td>0.305408</td>\n",
       "      <td>0.312622</td>\n",
       "      <td>0.313038</td>\n",
       "      <td>0.317143</td>\n",
       "      <td>0.316848</td>\n",
       "      <td>0.309961</td>\n",
       "      <td>0.325169</td>\n",
       "      <td>0.331173</td>\n",
       "      <td>0.342895</td>\n",
       "      <td>0.350113</td>\n",
       "      <td>...</td>\n",
       "      <td>0.311683</td>\n",
       "      <td>0.322788</td>\n",
       "      <td>0.316778</td>\n",
       "      <td>0.320051</td>\n",
       "      <td>0.336216</td>\n",
       "      <td>0.337000</td>\n",
       "      <td>0.322985</td>\n",
       "      <td>0.329704</td>\n",
       "      <td>0.328010</td>\n",
       "      <td>0.371232</td>\n",
       "    </tr>\n",
       "    <tr>\n",
       "      <th>17</th>\n",
       "      <td>0.124269</td>\n",
       "      <td>0.089800</td>\n",
       "      <td>0.031722</td>\n",
       "      <td>-0.005314</td>\n",
       "      <td>-0.086901</td>\n",
       "      <td>-0.142551</td>\n",
       "      <td>-0.164114</td>\n",
       "      <td>-0.223999</td>\n",
       "      <td>-0.212570</td>\n",
       "      <td>-0.210881</td>\n",
       "      <td>...</td>\n",
       "      <td>0.226952</td>\n",
       "      <td>0.268126</td>\n",
       "      <td>0.232513</td>\n",
       "      <td>0.207322</td>\n",
       "      <td>0.187891</td>\n",
       "      <td>0.169586</td>\n",
       "      <td>0.158585</td>\n",
       "      <td>0.133251</td>\n",
       "      <td>0.131545</td>\n",
       "      <td>0.092182</td>\n",
       "    </tr>\n",
       "    <tr>\n",
       "      <th>18</th>\n",
       "      <td>-0.056869</td>\n",
       "      <td>0.035601</td>\n",
       "      <td>0.068416</td>\n",
       "      <td>0.100104</td>\n",
       "      <td>0.167772</td>\n",
       "      <td>0.167389</td>\n",
       "      <td>0.120785</td>\n",
       "      <td>0.053587</td>\n",
       "      <td>0.034303</td>\n",
       "      <td>0.019750</td>\n",
       "      <td>...</td>\n",
       "      <td>0.384310</td>\n",
       "      <td>0.322788</td>\n",
       "      <td>0.238532</td>\n",
       "      <td>0.225121</td>\n",
       "      <td>0.193824</td>\n",
       "      <td>0.259272</td>\n",
       "      <td>0.292540</td>\n",
       "      <td>0.237617</td>\n",
       "      <td>0.106987</td>\n",
       "      <td>-0.004879</td>\n",
       "    </tr>\n",
       "    <tr>\n",
       "      <th>19</th>\n",
       "      <td>0.094080</td>\n",
       "      <td>0.210244</td>\n",
       "      <td>0.374194</td>\n",
       "      <td>0.527979</td>\n",
       "      <td>0.621213</td>\n",
       "      <td>0.675690</td>\n",
       "      <td>0.684389</td>\n",
       "      <td>0.664276</td>\n",
       "      <td>0.595940</td>\n",
       "      <td>0.537111</td>\n",
       "      <td>...</td>\n",
       "      <td>0.069594</td>\n",
       "      <td>0.079843</td>\n",
       "      <td>0.100097</td>\n",
       "      <td>0.136125</td>\n",
       "      <td>0.193824</td>\n",
       "      <td>0.265251</td>\n",
       "      <td>0.298629</td>\n",
       "      <td>0.323565</td>\n",
       "      <td>0.340289</td>\n",
       "      <td>0.292370</td>\n",
       "    </tr>\n",
       "    <tr>\n",
       "      <th>20</th>\n",
       "      <td>2.545488</td>\n",
       "      <td>2.781722</td>\n",
       "      <td>3.065042</td>\n",
       "      <td>3.411485</td>\n",
       "      <td>3.658650</td>\n",
       "      <td>4.016840</td>\n",
       "      <td>4.598652</td>\n",
       "      <td>4.710859</td>\n",
       "      <td>4.311386</td>\n",
       "      <td>2.749923</td>\n",
       "      <td>...</td>\n",
       "      <td>2.532851</td>\n",
       "      <td>2.582185</td>\n",
       "      <td>2.646103</td>\n",
       "      <td>2.823807</td>\n",
       "      <td>3.106921</td>\n",
       "      <td>3.440139</td>\n",
       "      <td>3.775378</td>\n",
       "      <td>4.172818</td>\n",
       "      <td>4.668649</td>\n",
       "      <td>4.702577</td>\n",
       "    </tr>\n",
       "    <tr>\n",
       "      <th>21</th>\n",
       "      <td>-0.074983</td>\n",
       "      <td>-0.096888</td>\n",
       "      <td>-0.078358</td>\n",
       "      <td>-0.116934</td>\n",
       "      <td>-0.161439</td>\n",
       "      <td>-0.204539</td>\n",
       "      <td>-0.250822</td>\n",
       "      <td>-0.223999</td>\n",
       "      <td>-0.194055</td>\n",
       "      <td>-0.104916</td>\n",
       "      <td>...</td>\n",
       "      <td>-0.499316</td>\n",
       "      <td>-0.430344</td>\n",
       "      <td>-0.236963</td>\n",
       "      <td>-0.148662</td>\n",
       "      <td>0.015834</td>\n",
       "      <td>0.008151</td>\n",
       "      <td>0.103785</td>\n",
       "      <td>0.108695</td>\n",
       "      <td>0.051732</td>\n",
       "      <td>0.055784</td>\n",
       "    </tr>\n",
       "    <tr>\n",
       "      <th>22</th>\n",
       "      <td>-1.524091</td>\n",
       "      <td>-1.072483</td>\n",
       "      <td>-0.653221</td>\n",
       "      <td>-0.222352</td>\n",
       "      <td>0.173983</td>\n",
       "      <td>0.477329</td>\n",
       "      <td>0.727744</td>\n",
       "      <td>0.923356</td>\n",
       "      <td>1.034141</td>\n",
       "      <td>1.154205</td>\n",
       "      <td>...</td>\n",
       "      <td>-1.316367</td>\n",
       "      <td>-1.341391</td>\n",
       "      <td>-1.260181</td>\n",
       "      <td>-1.394607</td>\n",
       "      <td>-1.823392</td>\n",
       "      <td>-2.574808</td>\n",
       "      <td>-3.147676</td>\n",
       "      <td>-3.286261</td>\n",
       "      <td>-3.214492</td>\n",
       "      <td>-2.874244</td>\n",
       "    </tr>\n",
       "    <tr>\n",
       "      <th>23</th>\n",
       "      <td>0.045776</td>\n",
       "      <td>0.306599</td>\n",
       "      <td>0.539314</td>\n",
       "      <td>0.819431</td>\n",
       "      <td>0.975270</td>\n",
       "      <td>1.190190</td>\n",
       "      <td>1.260381</td>\n",
       "      <td>1.207110</td>\n",
       "      <td>1.071172</td>\n",
       "      <td>0.917341</td>\n",
       "      <td>...</td>\n",
       "      <td>-0.922972</td>\n",
       "      <td>-1.086298</td>\n",
       "      <td>-1.218048</td>\n",
       "      <td>-1.264080</td>\n",
       "      <td>-1.247892</td>\n",
       "      <td>-1.133852</td>\n",
       "      <td>-0.961768</td>\n",
       "      <td>-0.713953</td>\n",
       "      <td>-0.445569</td>\n",
       "      <td>-0.168670</td>\n",
       "    </tr>\n",
       "    <tr>\n",
       "      <th>24</th>\n",
       "      <td>3.650433</td>\n",
       "      <td>2.040992</td>\n",
       "      <td>0.600470</td>\n",
       "      <td>-0.600618</td>\n",
       "      <td>-2.782704</td>\n",
       "      <td>-4.494104</td>\n",
       "      <td>-5.663900</td>\n",
       "      <td>-4.782573</td>\n",
       "      <td>-3.181224</td>\n",
       "      <td>-1.507402</td>\n",
       "      <td>...</td>\n",
       "      <td>1.697643</td>\n",
       "      <td>1.956599</td>\n",
       "      <td>2.236816</td>\n",
       "      <td>2.574618</td>\n",
       "      <td>2.721277</td>\n",
       "      <td>2.549257</td>\n",
       "      <td>1.966982</td>\n",
       "      <td>1.164630</td>\n",
       "      <td>0.328010</td>\n",
       "      <td>-0.356725</td>\n",
       "    </tr>\n",
       "    <tr>\n",
       "      <th>25</th>\n",
       "      <td>-0.026679</td>\n",
       "      <td>-0.024621</td>\n",
       "      <td>-0.053896</td>\n",
       "      <td>-0.042521</td>\n",
       "      <td>-0.037209</td>\n",
       "      <td>0.012419</td>\n",
       "      <td>0.040270</td>\n",
       "      <td>0.035081</td>\n",
       "      <td>0.021959</td>\n",
       "      <td>0.007283</td>\n",
       "      <td>...</td>\n",
       "      <td>0.347996</td>\n",
       "      <td>0.401746</td>\n",
       "      <td>0.407062</td>\n",
       "      <td>0.444645</td>\n",
       "      <td>0.401479</td>\n",
       "      <td>0.396791</td>\n",
       "      <td>0.402140</td>\n",
       "      <td>0.384957</td>\n",
       "      <td>0.426242</td>\n",
       "      <td>0.401563</td>\n",
       "    </tr>\n",
       "    <tr>\n",
       "      <th>26</th>\n",
       "      <td>-0.050831</td>\n",
       "      <td>-0.163132</td>\n",
       "      <td>-0.261825</td>\n",
       "      <td>-0.302966</td>\n",
       "      <td>-0.360208</td>\n",
       "      <td>-0.365707</td>\n",
       "      <td>-0.387078</td>\n",
       "      <td>-0.433730</td>\n",
       "      <td>-0.496475</td>\n",
       "      <td>-0.485145</td>\n",
       "      <td>...</td>\n",
       "      <td>-0.015137</td>\n",
       "      <td>-0.096293</td>\n",
       "      <td>-0.200850</td>\n",
       "      <td>-0.249524</td>\n",
       "      <td>-0.245217</td>\n",
       "      <td>-0.195137</td>\n",
       "      <td>-0.194570</td>\n",
       "      <td>-0.185985</td>\n",
       "      <td>-0.181570</td>\n",
       "      <td>-0.180802</td>\n",
       "    </tr>\n",
       "    <tr>\n",
       "      <th>27</th>\n",
       "      <td>-1.982976</td>\n",
       "      <td>-2.228745</td>\n",
       "      <td>-2.237152</td>\n",
       "      <td>-2.026869</td>\n",
       "      <td>-1.658417</td>\n",
       "      <td>-1.221141</td>\n",
       "      <td>-0.771072</td>\n",
       "      <td>-0.390550</td>\n",
       "      <td>-0.058274</td>\n",
       "      <td>0.163115</td>\n",
       "      <td>...</td>\n",
       "      <td>1.473711</td>\n",
       "      <td>0.754017</td>\n",
       "      <td>-0.164736</td>\n",
       "      <td>-1.020824</td>\n",
       "      <td>-1.657268</td>\n",
       "      <td>-2.018754</td>\n",
       "      <td>-2.228255</td>\n",
       "      <td>-2.254882</td>\n",
       "      <td>-2.072542</td>\n",
       "      <td>-1.794441</td>\n",
       "    </tr>\n",
       "    <tr>\n",
       "      <th>28</th>\n",
       "      <td>-0.111211</td>\n",
       "      <td>0.156045</td>\n",
       "      <td>0.435349</td>\n",
       "      <td>0.552784</td>\n",
       "      <td>0.496983</td>\n",
       "      <td>0.297564</td>\n",
       "      <td>-0.027858</td>\n",
       "      <td>-0.149976</td>\n",
       "      <td>-0.249601</td>\n",
       "      <td>-0.354247</td>\n",
       "      <td>...</td>\n",
       "      <td>0.111959</td>\n",
       "      <td>0.006959</td>\n",
       "      <td>-0.056395</td>\n",
       "      <td>-0.024068</td>\n",
       "      <td>0.057365</td>\n",
       "      <td>0.109796</td>\n",
       "      <td>0.122052</td>\n",
       "      <td>0.041164</td>\n",
       "      <td>-0.028082</td>\n",
       "      <td>-0.023078</td>\n",
       "    </tr>\n",
       "    <tr>\n",
       "      <th>29</th>\n",
       "      <td>0.063890</td>\n",
       "      <td>0.174111</td>\n",
       "      <td>0.276345</td>\n",
       "      <td>0.279936</td>\n",
       "      <td>0.229887</td>\n",
       "      <td>0.148793</td>\n",
       "      <td>0.102205</td>\n",
       "      <td>0.047419</td>\n",
       "      <td>0.021959</td>\n",
       "      <td>0.025983</td>\n",
       "      <td>...</td>\n",
       "      <td>-0.033294</td>\n",
       "      <td>0.025180</td>\n",
       "      <td>-0.038338</td>\n",
       "      <td>-0.000335</td>\n",
       "      <td>-0.025697</td>\n",
       "      <td>-0.051639</td>\n",
       "      <td>-0.036259</td>\n",
       "      <td>-0.032506</td>\n",
       "      <td>0.039453</td>\n",
       "      <td>0.049717</td>\n",
       "    </tr>\n",
       "    <tr>\n",
       "      <th>...</th>\n",
       "      <td>...</td>\n",
       "      <td>...</td>\n",
       "      <td>...</td>\n",
       "      <td>...</td>\n",
       "      <td>...</td>\n",
       "      <td>...</td>\n",
       "      <td>...</td>\n",
       "      <td>...</td>\n",
       "      <td>...</td>\n",
       "      <td>...</td>\n",
       "      <td>...</td>\n",
       "      <td>...</td>\n",
       "      <td>...</td>\n",
       "      <td>...</td>\n",
       "      <td>...</td>\n",
       "      <td>...</td>\n",
       "      <td>...</td>\n",
       "      <td>...</td>\n",
       "      <td>...</td>\n",
       "      <td>...</td>\n",
       "      <td>...</td>\n",
       "    </tr>\n",
       "    <tr>\n",
       "      <th>11470</th>\n",
       "      <td>-0.304425</td>\n",
       "      <td>-0.133021</td>\n",
       "      <td>0.141802</td>\n",
       "      <td>0.372952</td>\n",
       "      <td>0.602579</td>\n",
       "      <td>0.731479</td>\n",
       "      <td>0.746324</td>\n",
       "      <td>0.806153</td>\n",
       "      <td>0.781095</td>\n",
       "      <td>0.786442</td>\n",
       "      <td>...</td>\n",
       "      <td>0.347996</td>\n",
       "      <td>0.268126</td>\n",
       "      <td>0.238532</td>\n",
       "      <td>0.308184</td>\n",
       "      <td>0.425210</td>\n",
       "      <td>0.522352</td>\n",
       "      <td>0.548273</td>\n",
       "      <td>0.544575</td>\n",
       "      <td>0.358707</td>\n",
       "      <td>0.225640</td>\n",
       "    </tr>\n",
       "    <tr>\n",
       "      <th>11471</th>\n",
       "      <td>-1.222194</td>\n",
       "      <td>-1.861391</td>\n",
       "      <td>-2.494006</td>\n",
       "      <td>-3.254684</td>\n",
       "      <td>-4.596470</td>\n",
       "      <td>-3.911417</td>\n",
       "      <td>-2.870653</td>\n",
       "      <td>0.300330</td>\n",
       "      <td>2.842489</td>\n",
       "      <td>4.245908</td>\n",
       "      <td>...</td>\n",
       "      <td>6.103666</td>\n",
       "      <td>6.335699</td>\n",
       "      <td>5.234242</td>\n",
       "      <td>3.618839</td>\n",
       "      <td>2.276303</td>\n",
       "      <td>1.311589</td>\n",
       "      <td>-0.663413</td>\n",
       "      <td>-0.357881</td>\n",
       "      <td>-0.470127</td>\n",
       "      <td>1.117388</td>\n",
       "    </tr>\n",
       "    <tr>\n",
       "      <th>11472</th>\n",
       "      <td>-0.298387</td>\n",
       "      <td>-0.361864</td>\n",
       "      <td>-0.408598</td>\n",
       "      <td>-0.402184</td>\n",
       "      <td>-0.409900</td>\n",
       "      <td>-0.402900</td>\n",
       "      <td>-0.405658</td>\n",
       "      <td>-0.427561</td>\n",
       "      <td>-0.434757</td>\n",
       "      <td>-0.435279</td>\n",
       "      <td>...</td>\n",
       "      <td>-0.214861</td>\n",
       "      <td>-0.248134</td>\n",
       "      <td>-0.279096</td>\n",
       "      <td>-0.326654</td>\n",
       "      <td>-0.441006</td>\n",
       "      <td>-0.506049</td>\n",
       "      <td>-0.535547</td>\n",
       "      <td>-0.548195</td>\n",
       "      <td>-0.531523</td>\n",
       "      <td>-0.508383</td>\n",
       "    </tr>\n",
       "    <tr>\n",
       "      <th>11473</th>\n",
       "      <td>-0.570095</td>\n",
       "      <td>-0.735240</td>\n",
       "      <td>-0.732723</td>\n",
       "      <td>-0.631624</td>\n",
       "      <td>-0.515496</td>\n",
       "      <td>-0.340912</td>\n",
       "      <td>-0.201274</td>\n",
       "      <td>0.065924</td>\n",
       "      <td>0.299692</td>\n",
       "      <td>0.599444</td>\n",
       "      <td>...</td>\n",
       "      <td>-0.202757</td>\n",
       "      <td>-0.424270</td>\n",
       "      <td>-0.724496</td>\n",
       "      <td>-0.819099</td>\n",
       "      <td>-0.903779</td>\n",
       "      <td>-0.733254</td>\n",
       "      <td>-0.590347</td>\n",
       "      <td>-0.474526</td>\n",
       "      <td>-0.310500</td>\n",
       "      <td>-0.241466</td>\n",
       "    </tr>\n",
       "    <tr>\n",
       "      <th>11474</th>\n",
       "      <td>-0.231970</td>\n",
       "      <td>-0.223354</td>\n",
       "      <td>-0.322981</td>\n",
       "      <td>-0.327771</td>\n",
       "      <td>-0.235978</td>\n",
       "      <td>-0.105358</td>\n",
       "      <td>0.034077</td>\n",
       "      <td>0.121441</td>\n",
       "      <td>0.207115</td>\n",
       "      <td>0.306480</td>\n",
       "      <td>...</td>\n",
       "      <td>0.287474</td>\n",
       "      <td>0.328862</td>\n",
       "      <td>0.328816</td>\n",
       "      <td>0.349716</td>\n",
       "      <td>0.359948</td>\n",
       "      <td>0.354938</td>\n",
       "      <td>0.274274</td>\n",
       "      <td>0.157808</td>\n",
       "      <td>0.113127</td>\n",
       "      <td>0.086115</td>\n",
       "    </tr>\n",
       "    <tr>\n",
       "      <th>11475</th>\n",
       "      <td>-0.340653</td>\n",
       "      <td>-0.193243</td>\n",
       "      <td>-0.084473</td>\n",
       "      <td>0.038094</td>\n",
       "      <td>-0.043420</td>\n",
       "      <td>-0.055768</td>\n",
       "      <td>-0.052631</td>\n",
       "      <td>-0.063616</td>\n",
       "      <td>-0.076790</td>\n",
       "      <td>-0.142315</td>\n",
       "      <td>...</td>\n",
       "      <td>0.541668</td>\n",
       "      <td>0.590029</td>\n",
       "      <td>0.599668</td>\n",
       "      <td>0.610771</td>\n",
       "      <td>0.620999</td>\n",
       "      <td>0.653891</td>\n",
       "      <td>0.676140</td>\n",
       "      <td>0.704193</td>\n",
       "      <td>0.690241</td>\n",
       "      <td>0.626017</td>\n",
       "    </tr>\n",
       "    <tr>\n",
       "      <th>11476</th>\n",
       "      <td>-1.699192</td>\n",
       "      <td>-1.722881</td>\n",
       "      <td>-1.784600</td>\n",
       "      <td>-1.847037</td>\n",
       "      <td>-1.925513</td>\n",
       "      <td>-2.008388</td>\n",
       "      <td>-2.108858</td>\n",
       "      <td>-2.185604</td>\n",
       "      <td>-2.236933</td>\n",
       "      <td>-2.361360</td>\n",
       "      <td>...</td>\n",
       "      <td>-0.142234</td>\n",
       "      <td>0.134505</td>\n",
       "      <td>0.033889</td>\n",
       "      <td>1.939779</td>\n",
       "      <td>3.029792</td>\n",
       "      <td>5.018614</td>\n",
       "      <td>5.419375</td>\n",
       "      <td>4.854265</td>\n",
       "      <td>3.581955</td>\n",
       "      <td>1.736152</td>\n",
       "    </tr>\n",
       "    <tr>\n",
       "      <th>11477</th>\n",
       "      <td>0.238991</td>\n",
       "      <td>0.282511</td>\n",
       "      <td>0.221305</td>\n",
       "      <td>0.081501</td>\n",
       "      <td>-0.167651</td>\n",
       "      <td>-0.278924</td>\n",
       "      <td>-0.275596</td>\n",
       "      <td>-0.199324</td>\n",
       "      <td>-0.033587</td>\n",
       "      <td>0.107016</td>\n",
       "      <td>...</td>\n",
       "      <td>-0.099869</td>\n",
       "      <td>0.085916</td>\n",
       "      <td>0.208438</td>\n",
       "      <td>0.248854</td>\n",
       "      <td>0.187891</td>\n",
       "      <td>0.032068</td>\n",
       "      <td>-0.115414</td>\n",
       "      <td>-0.179846</td>\n",
       "      <td>-0.181570</td>\n",
       "      <td>-0.150471</td>\n",
       "    </tr>\n",
       "    <tr>\n",
       "      <th>11478</th>\n",
       "      <td>2.799082</td>\n",
       "      <td>2.896144</td>\n",
       "      <td>2.514641</td>\n",
       "      <td>1.861213</td>\n",
       "      <td>1.062232</td>\n",
       "      <td>0.557913</td>\n",
       "      <td>0.164139</td>\n",
       "      <td>-0.156144</td>\n",
       "      <td>-0.336007</td>\n",
       "      <td>-0.478912</td>\n",
       "      <td>...</td>\n",
       "      <td>0.838227</td>\n",
       "      <td>1.167025</td>\n",
       "      <td>1.496488</td>\n",
       "      <td>1.637193</td>\n",
       "      <td>1.332958</td>\n",
       "      <td>0.761514</td>\n",
       "      <td>0.371696</td>\n",
       "      <td>0.127112</td>\n",
       "      <td>-0.015803</td>\n",
       "      <td>-0.217200</td>\n",
       "    </tr>\n",
       "    <tr>\n",
       "      <th>11479</th>\n",
       "      <td>0.444281</td>\n",
       "      <td>0.475221</td>\n",
       "      <td>0.520967</td>\n",
       "      <td>0.521778</td>\n",
       "      <td>0.515617</td>\n",
       "      <td>0.520720</td>\n",
       "      <td>0.541940</td>\n",
       "      <td>0.565579</td>\n",
       "      <td>0.546566</td>\n",
       "      <td>0.543345</td>\n",
       "      <td>...</td>\n",
       "      <td>0.099855</td>\n",
       "      <td>0.055548</td>\n",
       "      <td>0.057964</td>\n",
       "      <td>0.070862</td>\n",
       "      <td>0.134494</td>\n",
       "      <td>0.187523</td>\n",
       "      <td>0.213385</td>\n",
       "      <td>0.262174</td>\n",
       "      <td>0.297312</td>\n",
       "      <td>0.322701</td>\n",
       "    </tr>\n",
       "    <tr>\n",
       "      <th>11480</th>\n",
       "      <td>0.226915</td>\n",
       "      <td>0.264444</td>\n",
       "      <td>0.251883</td>\n",
       "      <td>0.217925</td>\n",
       "      <td>0.242310</td>\n",
       "      <td>0.291365</td>\n",
       "      <td>0.343750</td>\n",
       "      <td>0.417533</td>\n",
       "      <td>0.416957</td>\n",
       "      <td>0.294014</td>\n",
       "      <td>...</td>\n",
       "      <td>-0.081712</td>\n",
       "      <td>0.098064</td>\n",
       "      <td>0.310759</td>\n",
       "      <td>0.462444</td>\n",
       "      <td>0.490473</td>\n",
       "      <td>0.408749</td>\n",
       "      <td>0.304718</td>\n",
       "      <td>0.231478</td>\n",
       "      <td>0.211359</td>\n",
       "      <td>0.255972</td>\n",
       "    </tr>\n",
       "    <tr>\n",
       "      <th>11481</th>\n",
       "      <td>-0.449336</td>\n",
       "      <td>-0.542530</td>\n",
       "      <td>-0.640990</td>\n",
       "      <td>-0.743244</td>\n",
       "      <td>-0.813650</td>\n",
       "      <td>-0.867810</td>\n",
       "      <td>-0.913521</td>\n",
       "      <td>-0.939553</td>\n",
       "      <td>-0.977878</td>\n",
       "      <td>-1.021207</td>\n",
       "      <td>...</td>\n",
       "      <td>-0.142234</td>\n",
       "      <td>-0.175251</td>\n",
       "      <td>-0.188812</td>\n",
       "      <td>-0.184261</td>\n",
       "      <td>-0.185887</td>\n",
       "      <td>-0.153284</td>\n",
       "      <td>-0.151948</td>\n",
       "      <td>-0.136872</td>\n",
       "      <td>-0.132454</td>\n",
       "      <td>-0.144405</td>\n",
       "    </tr>\n",
       "    <tr>\n",
       "      <th>11482</th>\n",
       "      <td>-0.660664</td>\n",
       "      <td>0.089800</td>\n",
       "      <td>0.698319</td>\n",
       "      <td>1.203898</td>\n",
       "      <td>1.720653</td>\n",
       "      <td>2.225388</td>\n",
       "      <td>2.548619</td>\n",
       "      <td>2.638219</td>\n",
       "      <td>2.459835</td>\n",
       "      <td>2.338527</td>\n",
       "      <td>...</td>\n",
       "      <td>2.036568</td>\n",
       "      <td>2.120588</td>\n",
       "      <td>2.062267</td>\n",
       "      <td>1.945712</td>\n",
       "      <td>1.849127</td>\n",
       "      <td>1.765999</td>\n",
       "      <td>1.619916</td>\n",
       "      <td>1.324248</td>\n",
       "      <td>0.966520</td>\n",
       "      <td>0.729144</td>\n",
       "    </tr>\n",
       "    <tr>\n",
       "      <th>11483</th>\n",
       "      <td>0.112194</td>\n",
       "      <td>0.246377</td>\n",
       "      <td>0.160149</td>\n",
       "      <td>0.118708</td>\n",
       "      <td>0.155349</td>\n",
       "      <td>0.185985</td>\n",
       "      <td>0.300395</td>\n",
       "      <td>0.232476</td>\n",
       "      <td>0.250317</td>\n",
       "      <td>0.281547</td>\n",
       "      <td>...</td>\n",
       "      <td>1.425293</td>\n",
       "      <td>1.215615</td>\n",
       "      <td>0.984879</td>\n",
       "      <td>0.859960</td>\n",
       "      <td>0.698128</td>\n",
       "      <td>0.414728</td>\n",
       "      <td>0.329074</td>\n",
       "      <td>0.464766</td>\n",
       "      <td>0.849869</td>\n",
       "      <td>1.244781</td>\n",
       "    </tr>\n",
       "    <tr>\n",
       "      <th>11484</th>\n",
       "      <td>-0.038755</td>\n",
       "      <td>-0.006555</td>\n",
       "      <td>0.031722</td>\n",
       "      <td>0.031892</td>\n",
       "      <td>0.031118</td>\n",
       "      <td>-0.012376</td>\n",
       "      <td>-0.058825</td>\n",
       "      <td>-0.125301</td>\n",
       "      <td>-0.175539</td>\n",
       "      <td>-0.266981</td>\n",
       "      <td>...</td>\n",
       "      <td>-0.360114</td>\n",
       "      <td>-0.321018</td>\n",
       "      <td>-0.279096</td>\n",
       "      <td>-0.225792</td>\n",
       "      <td>-0.203686</td>\n",
       "      <td>-0.165242</td>\n",
       "      <td>-0.103237</td>\n",
       "      <td>-0.081619</td>\n",
       "      <td>-0.028082</td>\n",
       "      <td>-0.029145</td>\n",
       "    </tr>\n",
       "    <tr>\n",
       "      <th>11485</th>\n",
       "      <td>-0.093097</td>\n",
       "      <td>0.017534</td>\n",
       "      <td>-0.072242</td>\n",
       "      <td>-0.240955</td>\n",
       "      <td>-0.416112</td>\n",
       "      <td>-0.570267</td>\n",
       "      <td>-0.634816</td>\n",
       "      <td>-0.606450</td>\n",
       "      <td>-0.570537</td>\n",
       "      <td>-0.472679</td>\n",
       "      <td>...</td>\n",
       "      <td>0.148273</td>\n",
       "      <td>-0.199545</td>\n",
       "      <td>-0.381417</td>\n",
       "      <td>-0.338520</td>\n",
       "      <td>-0.067227</td>\n",
       "      <td>0.193503</td>\n",
       "      <td>0.286452</td>\n",
       "      <td>0.108695</td>\n",
       "      <td>-0.089477</td>\n",
       "      <td>-0.120139</td>\n",
       "    </tr>\n",
       "    <tr>\n",
       "      <th>11486</th>\n",
       "      <td>0.112194</td>\n",
       "      <td>-0.102910</td>\n",
       "      <td>-0.219016</td>\n",
       "      <td>-0.222352</td>\n",
       "      <td>-0.142805</td>\n",
       "      <td>0.055811</td>\n",
       "      <td>0.145559</td>\n",
       "      <td>0.115273</td>\n",
       "      <td>0.028131</td>\n",
       "      <td>-0.173482</td>\n",
       "      <td>...</td>\n",
       "      <td>-0.033294</td>\n",
       "      <td>0.298494</td>\n",
       "      <td>0.503365</td>\n",
       "      <td>0.652303</td>\n",
       "      <td>0.739659</td>\n",
       "      <td>0.540289</td>\n",
       "      <td>0.085519</td>\n",
       "      <td>-0.247377</td>\n",
       "      <td>-0.414872</td>\n",
       "      <td>-0.581179</td>\n",
       "    </tr>\n",
       "    <tr>\n",
       "      <th>11487</th>\n",
       "      <td>0.661647</td>\n",
       "      <td>0.710087</td>\n",
       "      <td>0.802283</td>\n",
       "      <td>0.943452</td>\n",
       "      <td>1.080866</td>\n",
       "      <td>1.183991</td>\n",
       "      <td>1.186059</td>\n",
       "      <td>1.114582</td>\n",
       "      <td>0.984766</td>\n",
       "      <td>0.861241</td>\n",
       "      <td>...</td>\n",
       "      <td>-0.390376</td>\n",
       "      <td>-0.126661</td>\n",
       "      <td>0.136210</td>\n",
       "      <td>0.361582</td>\n",
       "      <td>0.537937</td>\n",
       "      <td>0.647912</td>\n",
       "      <td>0.730940</td>\n",
       "      <td>0.759446</td>\n",
       "      <td>0.751637</td>\n",
       "      <td>0.795874</td>\n",
       "    </tr>\n",
       "    <tr>\n",
       "      <th>11488</th>\n",
       "      <td>1.682061</td>\n",
       "      <td>2.528790</td>\n",
       "      <td>2.814304</td>\n",
       "      <td>2.636349</td>\n",
       "      <td>2.124403</td>\n",
       "      <td>1.580714</td>\n",
       "      <td>1.111738</td>\n",
       "      <td>0.738299</td>\n",
       "      <td>0.453988</td>\n",
       "      <td>0.225448</td>\n",
       "      <td>...</td>\n",
       "      <td>3.144126</td>\n",
       "      <td>2.570038</td>\n",
       "      <td>1.803453</td>\n",
       "      <td>1.103216</td>\n",
       "      <td>0.532004</td>\n",
       "      <td>0.121754</td>\n",
       "      <td>-0.084970</td>\n",
       "      <td>-0.204403</td>\n",
       "      <td>-0.279802</td>\n",
       "      <td>-0.332460</td>\n",
       "    </tr>\n",
       "    <tr>\n",
       "      <th>11489</th>\n",
       "      <td>0.613344</td>\n",
       "      <td>0.565554</td>\n",
       "      <td>0.484274</td>\n",
       "      <td>0.310941</td>\n",
       "      <td>0.242310</td>\n",
       "      <td>0.291365</td>\n",
       "      <td>0.399491</td>\n",
       "      <td>0.503893</td>\n",
       "      <td>0.546566</td>\n",
       "      <td>0.530878</td>\n",
       "      <td>...</td>\n",
       "      <td>0.511406</td>\n",
       "      <td>0.565734</td>\n",
       "      <td>0.533460</td>\n",
       "      <td>0.385314</td>\n",
       "      <td>0.193824</td>\n",
       "      <td>-0.039681</td>\n",
       "      <td>-0.121503</td>\n",
       "      <td>-0.032506</td>\n",
       "      <td>0.131545</td>\n",
       "      <td>0.255972</td>\n",
       "    </tr>\n",
       "    <tr>\n",
       "      <th>11490</th>\n",
       "      <td>-0.062907</td>\n",
       "      <td>-0.319709</td>\n",
       "      <td>-0.677683</td>\n",
       "      <td>-1.189722</td>\n",
       "      <td>-1.764013</td>\n",
       "      <td>-2.039382</td>\n",
       "      <td>-2.424724</td>\n",
       "      <td>-3.209587</td>\n",
       "      <td>-4.730355</td>\n",
       "      <td>-6.624919</td>\n",
       "      <td>...</td>\n",
       "      <td>2.199978</td>\n",
       "      <td>1.173099</td>\n",
       "      <td>-0.844875</td>\n",
       "      <td>-2.883809</td>\n",
       "      <td>-3.342236</td>\n",
       "      <td>-2.401415</td>\n",
       "      <td>-1.278390</td>\n",
       "      <td>-0.462247</td>\n",
       "      <td>-0.034222</td>\n",
       "      <td>-0.296062</td>\n",
       "    </tr>\n",
       "    <tr>\n",
       "      <th>11491</th>\n",
       "      <td>0.685799</td>\n",
       "      <td>0.890752</td>\n",
       "      <td>1.028559</td>\n",
       "      <td>1.036469</td>\n",
       "      <td>0.844828</td>\n",
       "      <td>0.613702</td>\n",
       "      <td>0.411878</td>\n",
       "      <td>0.386690</td>\n",
       "      <td>0.429301</td>\n",
       "      <td>0.431146</td>\n",
       "      <td>...</td>\n",
       "      <td>0.614294</td>\n",
       "      <td>0.523219</td>\n",
       "      <td>0.455214</td>\n",
       "      <td>0.426846</td>\n",
       "      <td>0.342149</td>\n",
       "      <td>0.313084</td>\n",
       "      <td>0.219474</td>\n",
       "      <td>0.145530</td>\n",
       "      <td>0.100848</td>\n",
       "      <td>0.086115</td>\n",
       "    </tr>\n",
       "    <tr>\n",
       "      <th>11492</th>\n",
       "      <td>-0.093097</td>\n",
       "      <td>-0.253465</td>\n",
       "      <td>-0.451407</td>\n",
       "      <td>-0.588216</td>\n",
       "      <td>-0.763957</td>\n",
       "      <td>-1.016581</td>\n",
       "      <td>-1.192227</td>\n",
       "      <td>-1.210970</td>\n",
       "      <td>-1.051940</td>\n",
       "      <td>-0.846675</td>\n",
       "      <td>...</td>\n",
       "      <td>-0.765614</td>\n",
       "      <td>-0.709732</td>\n",
       "      <td>-0.616155</td>\n",
       "      <td>-0.510580</td>\n",
       "      <td>-0.387609</td>\n",
       "      <td>-0.254928</td>\n",
       "      <td>-0.091059</td>\n",
       "      <td>-0.007949</td>\n",
       "      <td>0.027174</td>\n",
       "      <td>0.001187</td>\n",
       "    </tr>\n",
       "    <tr>\n",
       "      <th>11493</th>\n",
       "      <td>-0.751234</td>\n",
       "      <td>-0.759329</td>\n",
       "      <td>-0.781648</td>\n",
       "      <td>-0.780450</td>\n",
       "      <td>-0.757746</td>\n",
       "      <td>-0.719039</td>\n",
       "      <td>-0.678170</td>\n",
       "      <td>-0.686641</td>\n",
       "      <td>-0.693974</td>\n",
       "      <td>-0.703310</td>\n",
       "      <td>...</td>\n",
       "      <td>-0.009085</td>\n",
       "      <td>0.055548</td>\n",
       "      <td>0.088059</td>\n",
       "      <td>0.106460</td>\n",
       "      <td>0.128561</td>\n",
       "      <td>0.157628</td>\n",
       "      <td>0.176852</td>\n",
       "      <td>0.225339</td>\n",
       "      <td>0.285033</td>\n",
       "      <td>0.328768</td>\n",
       "    </tr>\n",
       "    <tr>\n",
       "      <th>11494</th>\n",
       "      <td>-0.165552</td>\n",
       "      <td>-0.030644</td>\n",
       "      <td>-0.017202</td>\n",
       "      <td>-0.030118</td>\n",
       "      <td>-0.372631</td>\n",
       "      <td>-0.477286</td>\n",
       "      <td>-0.529527</td>\n",
       "      <td>-0.335033</td>\n",
       "      <td>-0.508819</td>\n",
       "      <td>-0.497612</td>\n",
       "      <td>...</td>\n",
       "      <td>-0.475107</td>\n",
       "      <td>-0.557890</td>\n",
       "      <td>-0.381417</td>\n",
       "      <td>-0.296989</td>\n",
       "      <td>-0.179954</td>\n",
       "      <td>-0.314719</td>\n",
       "      <td>-0.218925</td>\n",
       "      <td>-0.130733</td>\n",
       "      <td>-0.114035</td>\n",
       "      <td>-0.241466</td>\n",
       "    </tr>\n",
       "    <tr>\n",
       "      <th>11495</th>\n",
       "      <td>-0.062907</td>\n",
       "      <td>-0.066777</td>\n",
       "      <td>-0.078358</td>\n",
       "      <td>-0.104531</td>\n",
       "      <td>-0.173862</td>\n",
       "      <td>-0.216936</td>\n",
       "      <td>-0.238435</td>\n",
       "      <td>-0.217830</td>\n",
       "      <td>-0.237258</td>\n",
       "      <td>-0.266981</td>\n",
       "      <td>...</td>\n",
       "      <td>0.178534</td>\n",
       "      <td>0.152726</td>\n",
       "      <td>0.166305</td>\n",
       "      <td>0.147991</td>\n",
       "      <td>0.110762</td>\n",
       "      <td>0.073921</td>\n",
       "      <td>-0.030170</td>\n",
       "      <td>-0.149150</td>\n",
       "      <td>-0.212268</td>\n",
       "      <td>-0.217200</td>\n",
       "    </tr>\n",
       "    <tr>\n",
       "      <th>11496</th>\n",
       "      <td>-0.213856</td>\n",
       "      <td>-0.000533</td>\n",
       "      <td>0.233536</td>\n",
       "      <td>0.534181</td>\n",
       "      <td>0.925578</td>\n",
       "      <td>1.351359</td>\n",
       "      <td>1.563860</td>\n",
       "      <td>1.521707</td>\n",
       "      <td>1.231639</td>\n",
       "      <td>0.886175</td>\n",
       "      <td>...</td>\n",
       "      <td>-0.511420</td>\n",
       "      <td>-0.333165</td>\n",
       "      <td>-0.128622</td>\n",
       "      <td>0.035263</td>\n",
       "      <td>0.164159</td>\n",
       "      <td>0.241335</td>\n",
       "      <td>0.371696</td>\n",
       "      <td>0.550714</td>\n",
       "      <td>0.794613</td>\n",
       "      <td>1.105255</td>\n",
       "    </tr>\n",
       "    <tr>\n",
       "      <th>11497</th>\n",
       "      <td>0.154459</td>\n",
       "      <td>0.101845</td>\n",
       "      <td>-0.017202</td>\n",
       "      <td>-0.042521</td>\n",
       "      <td>0.111868</td>\n",
       "      <td>0.204582</td>\n",
       "      <td>0.207494</td>\n",
       "      <td>-0.014267</td>\n",
       "      <td>0.065162</td>\n",
       "      <td>0.125715</td>\n",
       "      <td>...</td>\n",
       "      <td>-0.196704</td>\n",
       "      <td>-0.333165</td>\n",
       "      <td>-0.218906</td>\n",
       "      <td>-0.285123</td>\n",
       "      <td>-0.286748</td>\n",
       "      <td>-0.320698</td>\n",
       "      <td>-0.103237</td>\n",
       "      <td>0.065721</td>\n",
       "      <td>0.070150</td>\n",
       "      <td>0.025452</td>\n",
       "    </tr>\n",
       "    <tr>\n",
       "      <th>11498</th>\n",
       "      <td>-0.171590</td>\n",
       "      <td>-0.084843</td>\n",
       "      <td>0.007260</td>\n",
       "      <td>-0.017716</td>\n",
       "      <td>0.037330</td>\n",
       "      <td>0.117799</td>\n",
       "      <td>0.083625</td>\n",
       "      <td>0.158453</td>\n",
       "      <td>0.176255</td>\n",
       "      <td>0.219214</td>\n",
       "      <td>...</td>\n",
       "      <td>0.747443</td>\n",
       "      <td>0.796533</td>\n",
       "      <td>0.882557</td>\n",
       "      <td>0.954889</td>\n",
       "      <td>0.929514</td>\n",
       "      <td>0.773473</td>\n",
       "      <td>0.603073</td>\n",
       "      <td>0.495462</td>\n",
       "      <td>0.438521</td>\n",
       "      <td>0.407630</td>\n",
       "    </tr>\n",
       "    <tr>\n",
       "      <th>11499</th>\n",
       "      <td>0.245028</td>\n",
       "      <td>0.312622</td>\n",
       "      <td>0.410887</td>\n",
       "      <td>0.503175</td>\n",
       "      <td>0.509406</td>\n",
       "      <td>0.427738</td>\n",
       "      <td>0.374717</td>\n",
       "      <td>0.306499</td>\n",
       "      <td>0.231802</td>\n",
       "      <td>0.181815</td>\n",
       "      <td>...</td>\n",
       "      <td>-0.511420</td>\n",
       "      <td>-0.296724</td>\n",
       "      <td>-0.080471</td>\n",
       "      <td>0.053062</td>\n",
       "      <td>0.092963</td>\n",
       "      <td>0.109796</td>\n",
       "      <td>0.103785</td>\n",
       "      <td>0.065721</td>\n",
       "      <td>0.088569</td>\n",
       "      <td>0.195309</td>\n",
       "    </tr>\n",
       "  </tbody>\n",
       "</table>\n",
       "<p>11500 rows × 178 columns</p>\n",
       "</div>"
      ],
      "text/plain": [
       "            0         1         2         3         4         5         6    \\\n",
       "0      0.885051  1.209929  1.462764  1.439539  1.242366  0.818262  0.380910   \n",
       "1      2.400577  2.366190  2.239441  2.109257  2.037441  1.996033  1.941660   \n",
       "2     -0.123287 -0.169154 -0.225131 -0.172743 -0.149016 -0.179743 -0.312756   \n",
       "3     -0.564057 -0.542530 -0.524794 -0.513803 -0.503073 -0.545472 -0.591462   \n",
       "4      0.015586 -0.325731 -0.537025 -0.575814 -0.434746 -0.254129 -0.058825   \n",
       "5      0.402015  0.234333  0.172380  0.155914  0.149137  0.161190  0.195107   \n",
       "6     -0.262159  0.011512  0.380309  0.745018  0.888309  0.843058  0.678196   \n",
       "7      0.075966  0.053667  0.013376 -0.011515 -0.024786 -0.061966 -0.052631   \n",
       "8     -1.608623 -1.415749 -1.252546 -1.127711 -1.049688 -0.991785 -0.932102   \n",
       "9      0.118231  0.156045  0.141802  0.075300  0.012484 -0.006177  0.009303   \n",
       "10     0.039738  0.156045  0.233536  0.230327  0.105656 -0.136352 -0.213661   \n",
       "11    -0.938410 -1.319393 -1.650058 -1.896646 -2.049743 -2.243942 -2.468078   \n",
       "12     0.625419  0.360799  0.062300 -0.141738 -0.267035 -0.359508 -0.188887   \n",
       "13     0.160497  0.137978  0.062300 -0.048722 -0.124170 -0.148749 -0.201274   \n",
       "14    -0.074983 -0.024621  0.031722  0.050496  0.074599  0.062009  0.077431   \n",
       "15    -0.745196 -0.735240 -0.702145 -0.675032 -0.639727 -0.607460 -0.591462   \n",
       "16     0.305408  0.312622  0.313038  0.317143  0.316848  0.309961  0.325169   \n",
       "17     0.124269  0.089800  0.031722 -0.005314 -0.086901 -0.142551 -0.164114   \n",
       "18    -0.056869  0.035601  0.068416  0.100104  0.167772  0.167389  0.120785   \n",
       "19     0.094080  0.210244  0.374194  0.527979  0.621213  0.675690  0.684389   \n",
       "20     2.545488  2.781722  3.065042  3.411485  3.658650  4.016840  4.598652   \n",
       "21    -0.074983 -0.096888 -0.078358 -0.116934 -0.161439 -0.204539 -0.250822   \n",
       "22    -1.524091 -1.072483 -0.653221 -0.222352  0.173983  0.477329  0.727744   \n",
       "23     0.045776  0.306599  0.539314  0.819431  0.975270  1.190190  1.260381   \n",
       "24     3.650433  2.040992  0.600470 -0.600618 -2.782704 -4.494104 -5.663900   \n",
       "25    -0.026679 -0.024621 -0.053896 -0.042521 -0.037209  0.012419  0.040270   \n",
       "26    -0.050831 -0.163132 -0.261825 -0.302966 -0.360208 -0.365707 -0.387078   \n",
       "27    -1.982976 -2.228745 -2.237152 -2.026869 -1.658417 -1.221141 -0.771072   \n",
       "28    -0.111211  0.156045  0.435349  0.552784  0.496983  0.297564 -0.027858   \n",
       "29     0.063890  0.174111  0.276345  0.279936  0.229887  0.148793  0.102205   \n",
       "...         ...       ...       ...       ...       ...       ...       ...   \n",
       "11470 -0.304425 -0.133021  0.141802  0.372952  0.602579  0.731479  0.746324   \n",
       "11471 -1.222194 -1.861391 -2.494006 -3.254684 -4.596470 -3.911417 -2.870653   \n",
       "11472 -0.298387 -0.361864 -0.408598 -0.402184 -0.409900 -0.402900 -0.405658   \n",
       "11473 -0.570095 -0.735240 -0.732723 -0.631624 -0.515496 -0.340912 -0.201274   \n",
       "11474 -0.231970 -0.223354 -0.322981 -0.327771 -0.235978 -0.105358  0.034077   \n",
       "11475 -0.340653 -0.193243 -0.084473  0.038094 -0.043420 -0.055768 -0.052631   \n",
       "11476 -1.699192 -1.722881 -1.784600 -1.847037 -1.925513 -2.008388 -2.108858   \n",
       "11477  0.238991  0.282511  0.221305  0.081501 -0.167651 -0.278924 -0.275596   \n",
       "11478  2.799082  2.896144  2.514641  1.861213  1.062232  0.557913  0.164139   \n",
       "11479  0.444281  0.475221  0.520967  0.521778  0.515617  0.520720  0.541940   \n",
       "11480  0.226915  0.264444  0.251883  0.217925  0.242310  0.291365  0.343750   \n",
       "11481 -0.449336 -0.542530 -0.640990 -0.743244 -0.813650 -0.867810 -0.913521   \n",
       "11482 -0.660664  0.089800  0.698319  1.203898  1.720653  2.225388  2.548619   \n",
       "11483  0.112194  0.246377  0.160149  0.118708  0.155349  0.185985  0.300395   \n",
       "11484 -0.038755 -0.006555  0.031722  0.031892  0.031118 -0.012376 -0.058825   \n",
       "11485 -0.093097  0.017534 -0.072242 -0.240955 -0.416112 -0.570267 -0.634816   \n",
       "11486  0.112194 -0.102910 -0.219016 -0.222352 -0.142805  0.055811  0.145559   \n",
       "11487  0.661647  0.710087  0.802283  0.943452  1.080866  1.183991  1.186059   \n",
       "11488  1.682061  2.528790  2.814304  2.636349  2.124403  1.580714  1.111738   \n",
       "11489  0.613344  0.565554  0.484274  0.310941  0.242310  0.291365  0.399491   \n",
       "11490 -0.062907 -0.319709 -0.677683 -1.189722 -1.764013 -2.039382 -2.424724   \n",
       "11491  0.685799  0.890752  1.028559  1.036469  0.844828  0.613702  0.411878   \n",
       "11492 -0.093097 -0.253465 -0.451407 -0.588216 -0.763957 -1.016581 -1.192227   \n",
       "11493 -0.751234 -0.759329 -0.781648 -0.780450 -0.757746 -0.719039 -0.678170   \n",
       "11494 -0.165552 -0.030644 -0.017202 -0.030118 -0.372631 -0.477286 -0.529527   \n",
       "11495 -0.062907 -0.066777 -0.078358 -0.104531 -0.173862 -0.216936 -0.238435   \n",
       "11496 -0.213856 -0.000533  0.233536  0.534181  0.925578  1.351359  1.563860   \n",
       "11497  0.154459  0.101845 -0.017202 -0.042521  0.111868  0.204582  0.207494   \n",
       "11498 -0.171590 -0.084843  0.007260 -0.017716  0.037330  0.117799  0.083625   \n",
       "11499  0.245028  0.312622  0.410887  0.503175  0.509406  0.427738  0.374717   \n",
       "\n",
       "            7         8         9    ...       168       169       170  \\\n",
       "0     -0.014267 -0.163196 -0.198415  ...  0.105907 -0.041630 -0.020282   \n",
       "1      1.719102  1.546403  1.484569  ...  1.074264  1.057700  0.972841   \n",
       "2     -0.409056 -0.484131 -0.547478  ...  0.233004  0.407820  0.455214   \n",
       "3     -0.575607 -0.496475 -0.453979  ... -0.426689 -0.436417 -0.417531   \n",
       "4      0.041250 -0.089134 -0.329314  ...  0.118012  0.085916  0.082040   \n",
       "5      0.287993  0.361410  0.449846  ...  0.021176 -0.011262 -0.116585   \n",
       "6      0.485387  0.268833  0.038450  ... -0.771666 -0.697584 -0.525872   \n",
       "7     -0.057447 -0.070618 -0.067516  ... -0.348010 -0.418196 -0.477720   \n",
       "8     -0.816181 -0.687802 -0.535012  ... -2.278671 -2.367837 -2.211171   \n",
       "9      0.065924  0.194771  0.294014  ...  0.450884  0.359230  0.256589   \n",
       "10    -0.075953  0.126881  0.225448  ... -0.251174 -0.169177  0.045927   \n",
       "11    -2.376830 -1.798733 -0.834209  ...  2.569164  2.630774  2.682217   \n",
       "12    -0.075953 -0.113821 -0.142315  ... -0.426689 -0.278503 -0.176774   \n",
       "13    -0.273347 -0.231086 -0.179715  ... -0.251174 -0.472859 -0.543928   \n",
       "14     0.102936  0.108365  0.082082  ...  0.257213  0.255978  0.280665   \n",
       "15    -0.532427 -0.539678 -0.522545  ... -0.287488 -0.235987 -0.164736   \n",
       "16     0.331173  0.342895  0.350113  ...  0.311683  0.322788  0.316778   \n",
       "17    -0.223999 -0.212570 -0.210881  ...  0.226952  0.268126  0.232513   \n",
       "18     0.053587  0.034303  0.019750  ...  0.384310  0.322788  0.238532   \n",
       "19     0.664276  0.595940  0.537111  ...  0.069594  0.079843  0.100097   \n",
       "20     4.710859  4.311386  2.749923  ...  2.532851  2.582185  2.646103   \n",
       "21    -0.223999 -0.194055 -0.104916  ... -0.499316 -0.430344 -0.236963   \n",
       "22     0.923356  1.034141  1.154205  ... -1.316367 -1.341391 -1.260181   \n",
       "23     1.207110  1.071172  0.917341  ... -0.922972 -1.086298 -1.218048   \n",
       "24    -4.782573 -3.181224 -1.507402  ...  1.697643  1.956599  2.236816   \n",
       "25     0.035081  0.021959  0.007283  ...  0.347996  0.401746  0.407062   \n",
       "26    -0.433730 -0.496475 -0.485145  ... -0.015137 -0.096293 -0.200850   \n",
       "27    -0.390550 -0.058274  0.163115  ...  1.473711  0.754017 -0.164736   \n",
       "28    -0.149976 -0.249601 -0.354247  ...  0.111959  0.006959 -0.056395   \n",
       "29     0.047419  0.021959  0.025983  ... -0.033294  0.025180 -0.038338   \n",
       "...         ...       ...       ...  ...       ...       ...       ...   \n",
       "11470  0.806153  0.781095  0.786442  ...  0.347996  0.268126  0.238532   \n",
       "11471  0.300330  2.842489  4.245908  ...  6.103666  6.335699  5.234242   \n",
       "11472 -0.427561 -0.434757 -0.435279  ... -0.214861 -0.248134 -0.279096   \n",
       "11473  0.065924  0.299692  0.599444  ... -0.202757 -0.424270 -0.724496   \n",
       "11474  0.121441  0.207115  0.306480  ...  0.287474  0.328862  0.328816   \n",
       "11475 -0.063616 -0.076790 -0.142315  ...  0.541668  0.590029  0.599668   \n",
       "11476 -2.185604 -2.236933 -2.361360  ... -0.142234  0.134505  0.033889   \n",
       "11477 -0.199324 -0.033587  0.107016  ... -0.099869  0.085916  0.208438   \n",
       "11478 -0.156144 -0.336007 -0.478912  ...  0.838227  1.167025  1.496488   \n",
       "11479  0.565579  0.546566  0.543345  ...  0.099855  0.055548  0.057964   \n",
       "11480  0.417533  0.416957  0.294014  ... -0.081712  0.098064  0.310759   \n",
       "11481 -0.939553 -0.977878 -1.021207  ... -0.142234 -0.175251 -0.188812   \n",
       "11482  2.638219  2.459835  2.338527  ...  2.036568  2.120588  2.062267   \n",
       "11483  0.232476  0.250317  0.281547  ...  1.425293  1.215615  0.984879   \n",
       "11484 -0.125301 -0.175539 -0.266981  ... -0.360114 -0.321018 -0.279096   \n",
       "11485 -0.606450 -0.570537 -0.472679  ...  0.148273 -0.199545 -0.381417   \n",
       "11486  0.115273  0.028131 -0.173482  ... -0.033294  0.298494  0.503365   \n",
       "11487  1.114582  0.984766  0.861241  ... -0.390376 -0.126661  0.136210   \n",
       "11488  0.738299  0.453988  0.225448  ...  3.144126  2.570038  1.803453   \n",
       "11489  0.503893  0.546566  0.530878  ...  0.511406  0.565734  0.533460   \n",
       "11490 -3.209587 -4.730355 -6.624919  ...  2.199978  1.173099 -0.844875   \n",
       "11491  0.386690  0.429301  0.431146  ...  0.614294  0.523219  0.455214   \n",
       "11492 -1.210970 -1.051940 -0.846675  ... -0.765614 -0.709732 -0.616155   \n",
       "11493 -0.686641 -0.693974 -0.703310  ... -0.009085  0.055548  0.088059   \n",
       "11494 -0.335033 -0.508819 -0.497612  ... -0.475107 -0.557890 -0.381417   \n",
       "11495 -0.217830 -0.237258 -0.266981  ...  0.178534  0.152726  0.166305   \n",
       "11496  1.521707  1.231639  0.886175  ... -0.511420 -0.333165 -0.128622   \n",
       "11497 -0.014267  0.065162  0.125715  ... -0.196704 -0.333165 -0.218906   \n",
       "11498  0.158453  0.176255  0.219214  ...  0.747443  0.796533  0.882557   \n",
       "11499  0.306499  0.231802  0.181815  ... -0.511420 -0.296724 -0.080471   \n",
       "\n",
       "            171       172       173       174       175       176       177  \n",
       "0     -0.107131 -0.375743 -0.535944 -0.693858 -0.634144 -0.433290 -0.235399  \n",
       "1      0.943023  0.982911  1.018615  1.029295  1.023429  0.954241  0.856537  \n",
       "2      0.361582  0.193824  0.008151 -0.103237 -0.136872 -0.138593 -0.144405  \n",
       "3     -0.397851 -0.375743 -0.428321 -0.389414 -0.364021 -0.347337 -0.320328  \n",
       "4      0.005598 -0.108758 -0.165242 -0.316347 -0.431551 -0.470127 -0.368858  \n",
       "5     -0.172394 -0.239284 -0.278844 -0.310258 -0.290351 -0.267523 -0.259664  \n",
       "6     -0.391918 -0.286748 -0.165242 -0.078881  0.145530  0.487637  0.850470  \n",
       "7     -0.498713 -0.441006 -0.374509 -0.358970 -0.327186 -0.273663 -0.162603  \n",
       "8     -1.916718 -1.586072 -1.271370 -0.980035 -0.689396 -0.408732 -0.168670  \n",
       "9      0.142058  0.051432 -0.021744 -0.036259 -0.014089 -0.015803  0.007253  \n",
       "10     0.225121  0.176025 -0.015765 -0.371147 -0.542056 -0.470127 -0.223267  \n",
       "11     2.544953  2.300034  1.987224  1.711249  1.397918  1.089310  0.698813  \n",
       "12    -0.160528 -0.174021 -0.111430  0.000274  0.071860  0.033313 -0.192935  \n",
       "13    -0.498713 -0.375743 -0.189158 -0.036259  0.157808  0.346428  0.486492  \n",
       "14     0.290385  0.282819  0.271230  0.237740  0.219199  0.186801  0.195309  \n",
       "15    -0.130863 -0.090959  0.020109  0.103785  0.206921  0.266615  0.298436  \n",
       "16     0.320051  0.336216  0.337000  0.322985  0.329704  0.328010  0.371232  \n",
       "17     0.207322  0.187891  0.169586  0.158585  0.133251  0.131545  0.092182  \n",
       "18     0.225121  0.193824  0.259272  0.292540  0.237617  0.106987 -0.004879  \n",
       "19     0.136125  0.193824  0.265251  0.298629  0.323565  0.340289  0.292370  \n",
       "20     2.823807  3.106921  3.440139  3.775378  4.172818  4.668649  4.702577  \n",
       "21    -0.148662  0.015834  0.008151  0.103785  0.108695  0.051732  0.055784  \n",
       "22    -1.394607 -1.823392 -2.574808 -3.147676 -3.286261 -3.214492 -2.874244  \n",
       "23    -1.264080 -1.247892 -1.133852 -0.961768 -0.713953 -0.445569 -0.168670  \n",
       "24     2.574618  2.721277  2.549257  1.966982  1.164630  0.328010 -0.356725  \n",
       "25     0.444645  0.401479  0.396791  0.402140  0.384957  0.426242  0.401563  \n",
       "26    -0.249524 -0.245217 -0.195137 -0.194570 -0.185985 -0.181570 -0.180802  \n",
       "27    -1.020824 -1.657268 -2.018754 -2.228255 -2.254882 -2.072542 -1.794441  \n",
       "28    -0.024068  0.057365  0.109796  0.122052  0.041164 -0.028082 -0.023078  \n",
       "29    -0.000335 -0.025697 -0.051639 -0.036259 -0.032506  0.039453  0.049717  \n",
       "...         ...       ...       ...       ...       ...       ...       ...  \n",
       "11470  0.308184  0.425210  0.522352  0.548273  0.544575  0.358707  0.225640  \n",
       "11471  3.618839  2.276303  1.311589 -0.663413 -0.357881 -0.470127  1.117388  \n",
       "11472 -0.326654 -0.441006 -0.506049 -0.535547 -0.548195 -0.531523 -0.508383  \n",
       "11473 -0.819099 -0.903779 -0.733254 -0.590347 -0.474526 -0.310500 -0.241466  \n",
       "11474  0.349716  0.359948  0.354938  0.274274  0.157808  0.113127  0.086115  \n",
       "11475  0.610771  0.620999  0.653891  0.676140  0.704193  0.690241  0.626017  \n",
       "11476  1.939779  3.029792  5.018614  5.419375  4.854265  3.581955  1.736152  \n",
       "11477  0.248854  0.187891  0.032068 -0.115414 -0.179846 -0.181570 -0.150471  \n",
       "11478  1.637193  1.332958  0.761514  0.371696  0.127112 -0.015803 -0.217200  \n",
       "11479  0.070862  0.134494  0.187523  0.213385  0.262174  0.297312  0.322701  \n",
       "11480  0.462444  0.490473  0.408749  0.304718  0.231478  0.211359  0.255972  \n",
       "11481 -0.184261 -0.185887 -0.153284 -0.151948 -0.136872 -0.132454 -0.144405  \n",
       "11482  1.945712  1.849127  1.765999  1.619916  1.324248  0.966520  0.729144  \n",
       "11483  0.859960  0.698128  0.414728  0.329074  0.464766  0.849869  1.244781  \n",
       "11484 -0.225792 -0.203686 -0.165242 -0.103237 -0.081619 -0.028082 -0.029145  \n",
       "11485 -0.338520 -0.067227  0.193503  0.286452  0.108695 -0.089477 -0.120139  \n",
       "11486  0.652303  0.739659  0.540289  0.085519 -0.247377 -0.414872 -0.581179  \n",
       "11487  0.361582  0.537937  0.647912  0.730940  0.759446  0.751637  0.795874  \n",
       "11488  1.103216  0.532004  0.121754 -0.084970 -0.204403 -0.279802 -0.332460  \n",
       "11489  0.385314  0.193824 -0.039681 -0.121503 -0.032506  0.131545  0.255972  \n",
       "11490 -2.883809 -3.342236 -2.401415 -1.278390 -0.462247 -0.034222 -0.296062  \n",
       "11491  0.426846  0.342149  0.313084  0.219474  0.145530  0.100848  0.086115  \n",
       "11492 -0.510580 -0.387609 -0.254928 -0.091059 -0.007949  0.027174  0.001187  \n",
       "11493  0.106460  0.128561  0.157628  0.176852  0.225339  0.285033  0.328768  \n",
       "11494 -0.296989 -0.179954 -0.314719 -0.218925 -0.130733 -0.114035 -0.241466  \n",
       "11495  0.147991  0.110762  0.073921 -0.030170 -0.149150 -0.212268 -0.217200  \n",
       "11496  0.035263  0.164159  0.241335  0.371696  0.550714  0.794613  1.105255  \n",
       "11497 -0.285123 -0.286748 -0.320698 -0.103237  0.065721  0.070150  0.025452  \n",
       "11498  0.954889  0.929514  0.773473  0.603073  0.495462  0.438521  0.407630  \n",
       "11499  0.053062  0.092963  0.109796  0.103785  0.065721  0.088569  0.195309  \n",
       "\n",
       "[11500 rows x 178 columns]"
      ]
     },
     "execution_count": 22,
     "metadata": {},
     "output_type": "execute_result"
    }
   ],
   "source": [
    "J=StandardScaler().fit_transform(X)\n",
    "pd_std=pd.DataFrame(data=J)\n",
    "pd_std"
   ]
  },
  {
   "cell_type": "markdown",
   "metadata": {},
   "source": [
    "# Feature extraction using PCA"
   ]
  },
  {
   "cell_type": "code",
   "execution_count": 23,
   "metadata": {
    "scrolled": true
   },
   "outputs": [],
   "source": [
    "mean_k=np.mean(J,axis=0)\n",
    "matrix=(J-mean_k).T.dot((J-mean_k))/(J.shape[0]-1)\n",
    "covariance = np.cov(J,rowvar=False)"
   ]
  },
  {
   "cell_type": "markdown",
   "metadata": {},
   "source": [
    "# Finding Eigen values"
   ]
  },
  {
   "cell_type": "code",
   "execution_count": 24,
   "metadata": {
    "scrolled": true
   },
   "outputs": [],
   "source": [
    "covariance=np.cov(J.T)\n",
    "eigen_values,eigen_vectors=np.linalg.eig(covariance)\n",
    "# print(eigen_vectors)\n",
    "# print(eigen_values)"
   ]
  },
  {
   "cell_type": "markdown",
   "metadata": {},
   "source": [
    "# Sorting eigen vectors"
   ]
  },
  {
   "cell_type": "code",
   "execution_count": 25,
   "metadata": {},
   "outputs": [
    {
     "name": "stdout",
     "output_type": "stream",
     "text": [
      "<class 'list'>\n"
     ]
    }
   ],
   "source": [
    "eigen_pairs = [(np.abs(eigen_values[i]), eigen_vectors[:,i])\n",
    "for i in range(len(eigen_values))]\n",
    "print(type(eigen_pairs))\n",
    "eigen_pairs.sort()\n",
    "eigen_pairs.reverse()"
   ]
  },
  {
   "cell_type": "markdown",
   "metadata": {},
   "source": [
    "# Finding number of significant components(ones with higher % of variance)"
   ]
  },
  {
   "cell_type": "code",
   "execution_count": 26,
   "metadata": {
    "scrolled": true
   },
   "outputs": [
    {
     "name": "stdout",
     "output_type": "stream",
     "text": [
      "\n",
      "\n",
      "3. % of variance of first comp.\n",
      " [5.608401764187334, 5.2396150107316295, 4.964632615471128]\n",
      "\n",
      "\n",
      "4. Sum of %\n",
      " 15.812649390390092\n"
     ]
    }
   ],
   "source": [
    "total=sum(eigen_values)\n",
    "# print(\"\\n\",total)\n",
    "exp_variance=[(i/total)*100 for i in sorted(eigen_values,reverse=True)]\n",
    "# print(\"\\n\\n1. Explained variance\\n\",exp_variance)\n",
    "cum_exp_var=np.cumsum(exp_variance)\n",
    "# print(\"\\n\\n2. Cumulative explained variance\\n\",cum_exp_var)\n",
    "print(\"\\n\\n3. % of variance of first comp.\\n\",exp_variance[0:3])\n",
    "print(\"\\n\\n4. Sum of %\\n\",sum(exp_variance[0:3]))"
   ]
  },
  {
   "cell_type": "code",
   "execution_count": 27,
   "metadata": {},
   "outputs": [],
   "source": [
    "pca=PCA(n_components=3)"
   ]
  },
  {
   "cell_type": "code",
   "execution_count": 28,
   "metadata": {},
   "outputs": [
    {
     "data": {
      "text/plain": [
       "PCA(copy=True, iterated_power='auto', n_components=3, random_state=None,\n",
       "    svd_solver='auto', tol=0.0, whiten=False)"
      ]
     },
     "execution_count": 28,
     "metadata": {},
     "output_type": "execute_result"
    }
   ],
   "source": [
    "pca.fit(pd_std)"
   ]
  },
  {
   "cell_type": "code",
   "execution_count": 29,
   "metadata": {},
   "outputs": [],
   "source": [
    "pca_feat=pca.transform(pd_std)"
   ]
  },
  {
   "cell_type": "code",
   "execution_count": 30,
   "metadata": {},
   "outputs": [
    {
     "name": "stdout",
     "output_type": "stream",
     "text": [
      "(11500, 3)\n"
     ]
    }
   ],
   "source": [
    "print(pca_feat.shape)"
   ]
  },
  {
   "cell_type": "code",
   "execution_count": 31,
   "metadata": {},
   "outputs": [
    {
     "data": {
      "text/html": [
       "<div>\n",
       "<style scoped>\n",
       "    .dataframe tbody tr th:only-of-type {\n",
       "        vertical-align: middle;\n",
       "    }\n",
       "\n",
       "    .dataframe tbody tr th {\n",
       "        vertical-align: top;\n",
       "    }\n",
       "\n",
       "    .dataframe thead th {\n",
       "        text-align: right;\n",
       "    }\n",
       "</style>\n",
       "<table border=\"1\" class=\"dataframe\">\n",
       "  <thead>\n",
       "    <tr style=\"text-align: right;\">\n",
       "      <th></th>\n",
       "      <th>PC1</th>\n",
       "      <th>PC2</th>\n",
       "      <th>PC3</th>\n",
       "    </tr>\n",
       "  </thead>\n",
       "  <tbody>\n",
       "    <tr>\n",
       "      <th>0</th>\n",
       "      <td>-0.143629</td>\n",
       "      <td>-1.152952</td>\n",
       "      <td>0.835757</td>\n",
       "    </tr>\n",
       "    <tr>\n",
       "      <th>1</th>\n",
       "      <td>-1.706166</td>\n",
       "      <td>-3.636680</td>\n",
       "      <td>6.122386</td>\n",
       "    </tr>\n",
       "    <tr>\n",
       "      <th>2</th>\n",
       "      <td>0.496865</td>\n",
       "      <td>-0.263428</td>\n",
       "      <td>0.937926</td>\n",
       "    </tr>\n",
       "    <tr>\n",
       "      <th>3</th>\n",
       "      <td>-0.171318</td>\n",
       "      <td>0.252143</td>\n",
       "      <td>-0.068685</td>\n",
       "    </tr>\n",
       "    <tr>\n",
       "      <th>4</th>\n",
       "      <td>-0.236520</td>\n",
       "      <td>0.122106</td>\n",
       "      <td>0.485700</td>\n",
       "    </tr>\n",
       "  </tbody>\n",
       "</table>\n",
       "</div>"
      ],
      "text/plain": [
       "        PC1       PC2       PC3\n",
       "0 -0.143629 -1.152952  0.835757\n",
       "1 -1.706166 -3.636680  6.122386\n",
       "2  0.496865 -0.263428  0.937926\n",
       "3 -0.171318  0.252143 -0.068685\n",
       "4 -0.236520  0.122106  0.485700"
      ]
     },
     "execution_count": 31,
     "metadata": {},
     "output_type": "execute_result"
    }
   ],
   "source": [
    "pca_df=pd.DataFrame(data=pca_feat, columns = ['PC1','PC2','PC3'])\n",
    "pca_df.head()"
   ]
  },
  {
   "cell_type": "code",
   "execution_count": 32,
   "metadata": {},
   "outputs": [
    {
     "data": {
      "text/plain": [
       "<matplotlib.axes._subplots.AxesSubplot at 0x218197e2a90>"
      ]
     },
     "execution_count": 32,
     "metadata": {},
     "output_type": "execute_result"
    },
    {
     "data": {
      "image/png": "[encoded data removed]",
      "text/plain": [
       "<Figure size 720x576 with 2 Axes>"
      ]
     },
     "metadata": {
      "needs_background": "light"
     },
     "output_type": "display_data"
    }
   ],
   "source": [
    "plt.figure(figsize=(10,8))\n",
    "Corr=pca_df[pca_df.columns].corr()\n",
    "sns.heatmap(Corr,cmap=\"YlOrRd\")"
   ]
  },
  {
   "cell_type": "code",
   "execution_count": 33,
   "metadata": {
    "scrolled": true
   },
   "outputs": [],
   "source": [
    "y=epi.iloc[:,178:179]\n",
    "y_pd=pd.DataFrame(data=y)\n",
    "pca_df[\"result\"]=y_pd[\"y\"]\n",
    "x=pca_df.iloc[:,0:3]\n",
    "y=pca_df.iloc[:,3:4]"
   ]
  },
  {
   "cell_type": "code",
   "execution_count": 34,
   "metadata": {},
   "outputs": [],
   "source": [
    "x_train,x_test,y_train,y_test = train_test_split(x,y,test_size=0.2,random_state=1,stratify=y)"
   ]
  },
  {
   "cell_type": "markdown",
   "metadata": {},
   "source": [
    "# SVM"
   ]
  },
  {
   "cell_type": "code",
   "execution_count": 35,
   "metadata": {},
   "outputs": [
    {
     "data": {
      "text/plain": [
       "SVC(C=1.0, cache_size=200, class_weight='balanced', coef0=0.0,\n",
       "    decision_function_shape='ovr', degree=3, gamma='auto', kernel='rbf',\n",
       "    max_iter=-1, probability=False, random_state=None, shrinking=True,\n",
       "    tol=0.001, verbose=False)"
      ]
     },
     "execution_count": 35,
     "metadata": {},
     "output_type": "execute_result"
    }
   ],
   "source": [
    "SVM=svm.SVC(kernel='rbf',gamma='auto',class_weight='balanced')\n",
    "SVM.fit(x_train,y_train)"
   ]
  },
  {
   "cell_type": "code",
   "execution_count": 36,
   "metadata": {},
   "outputs": [],
   "source": [
    "pred_svm=SVM.predict(x_test)"
   ]
  },
  {
   "cell_type": "code",
   "execution_count": 37,
   "metadata": {},
   "outputs": [
    {
     "name": "stdout",
     "output_type": "stream",
     "text": [
      "[1 5 4 5 5]\n",
      "      result\n",
      "3176       1\n",
      "6551       4\n",
      "7726       4\n",
      "2488       2\n",
      "854        3\n"
     ]
    }
   ],
   "source": [
    "print(pred_svm[0:5])\n",
    "print(y_test[0:5])"
   ]
  },
  {
   "cell_type": "code",
   "execution_count": 38,
   "metadata": {},
   "outputs": [
    {
     "name": "stdout",
     "output_type": "stream",
     "text": [
      "Accuracy: SVM 0.4391304347826087\n"
     ]
    }
   ],
   "source": [
    "print(\"Accuracy: SVM\",accuracy_score(y_test,pred_svm))"
   ]
  },
  {
   "cell_type": "code",
   "execution_count": 39,
   "metadata": {},
   "outputs": [
    {
     "name": "stdout",
     "output_type": "stream",
     "text": [
      "Classification report for SVM\n",
      "               precision    recall  f1-score   support\n",
      "\n",
      "           1       0.90      0.91      0.91       460\n",
      "           2       0.44      0.17      0.25       460\n",
      "           3       0.29      0.12      0.17       460\n",
      "           4       0.29      0.17      0.22       460\n",
      "           5       0.32      0.81      0.45       460\n",
      "\n",
      "    accuracy                           0.44      2300\n",
      "   macro avg       0.45      0.44      0.40      2300\n",
      "weighted avg       0.45      0.44      0.40      2300\n",
      "\n"
     ]
    }
   ],
   "source": [
    "print(\"Classification report for SVM\\n\",classification_report(y_test,pred_svm))"
   ]
  },
  {
   "cell_type": "code",
   "execution_count": 40,
   "metadata": {},
   "outputs": [
    {
     "name": "stdout",
     "output_type": "stream",
     "text": [
      "Confusion matrix for SVM\n",
      " [[420  14   7  11   8]\n",
      " [ 34  80  41  67 238]\n",
      " [ 11  37  56  80 276]\n",
      " [  3  37  52  80 288]\n",
      " [  0  13  34  39 374]]\n"
     ]
    }
   ],
   "source": [
    "print(\"Confusion matrix for SVM\\n\",confusion_matrix(y_test,pred_svm))\n"
   ]
  },
  {
   "cell_type": "markdown",
   "metadata": {},
   "source": [
    "# Decision Tree"
   ]
  },
  {
   "cell_type": "code",
   "execution_count": 41,
   "metadata": {},
   "outputs": [
    {
     "data": {
      "text/plain": [
       "DecisionTreeClassifier(class_weight=None, criterion='gini', max_depth=None,\n",
       "                       max_features=None, max_leaf_nodes=None,\n",
       "                       min_impurity_decrease=0.0, min_impurity_split=None,\n",
       "                       min_samples_leaf=10, min_samples_split=2,\n",
       "                       min_weight_fraction_leaf=0.0, presort=False,\n",
       "                       random_state=None, splitter='best')"
      ]
     },
     "execution_count": 41,
     "metadata": {},
     "output_type": "execute_result"
    }
   ],
   "source": [
    "Tree=DecisionTreeClassifier(criterion='gini',min_samples_leaf=10)\n",
    "Tree.fit(x_train,y_train)"
   ]
  },
  {
   "cell_type": "code",
   "execution_count": 42,
   "metadata": {},
   "outputs": [],
   "source": [
    "Tree_pred=Tree.predict(x_test)"
   ]
  },
  {
   "cell_type": "code",
   "execution_count": 43,
   "metadata": {},
   "outputs": [
    {
     "name": "stdout",
     "output_type": "stream",
     "text": [
      "[1 5 3 3 4]\n",
      "      result\n",
      "3176       1\n",
      "6551       4\n",
      "7726       4\n",
      "2488       2\n",
      "854        3\n"
     ]
    }
   ],
   "source": [
    "print(Tree_pred[0:5])\n",
    "print(y_test[0:5])"
   ]
  },
  {
   "cell_type": "code",
   "execution_count": 44,
   "metadata": {},
   "outputs": [
    {
     "name": "stdout",
     "output_type": "stream",
     "text": [
      "Accuracy: Decision Tree: 0.38782608695652177\n"
     ]
    }
   ],
   "source": [
    "print(\"Accuracy: Decision Tree:\",accuracy_score(y_test,Tree_pred))"
   ]
  },
  {
   "cell_type": "code",
   "execution_count": 45,
   "metadata": {},
   "outputs": [
    {
     "name": "stdout",
     "output_type": "stream",
     "text": [
      "Confusion matrix for Decision Tree\n",
      " [[396  35  14  12   3]\n",
      " [ 43 119 103 104  91]\n",
      " [ 14 114 114 127  91]\n",
      " [  8  88 125 127 112]\n",
      " [  1  96 107 120 136]]\n"
     ]
    }
   ],
   "source": [
    "print(\"Confusion matrix for Decision Tree\\n\",confusion_matrix(y_test,Tree_pred))"
   ]
  },
  {
   "cell_type": "code",
   "execution_count": 46,
   "metadata": {},
   "outputs": [
    {
     "name": "stdout",
     "output_type": "stream",
     "text": [
      "Classification report for Decision Tree\n",
      "               precision    recall  f1-score   support\n",
      "\n",
      "           1       0.86      0.86      0.86       460\n",
      "           2       0.26      0.26      0.26       460\n",
      "           3       0.25      0.25      0.25       460\n",
      "           4       0.26      0.28      0.27       460\n",
      "           5       0.31      0.30      0.30       460\n",
      "\n",
      "    accuracy                           0.39      2300\n",
      "   macro avg       0.39      0.39      0.39      2300\n",
      "weighted avg       0.39      0.39      0.39      2300\n",
      "\n"
     ]
    }
   ],
   "source": [
    "print(\"Classification report for Decision Tree\\n\",classification_report(y_test,Tree_pred))"
   ]
  },
  {
   "cell_type": "markdown",
   "metadata": {},
   "source": [
    "# Random Forest"
   ]
  },
  {
   "cell_type": "code",
   "execution_count": 47,
   "metadata": {
    "scrolled": true
   },
   "outputs": [],
   "source": [
    "Random_f=RandomForestClassifier(n_estimators=50)\n",
    "Random_f.fit(x_train,y_train)\n",
    "pred_rf=Random_f.predict(x_test)"
   ]
  },
  {
   "cell_type": "code",
   "execution_count": 48,
   "metadata": {},
   "outputs": [
    {
     "name": "stdout",
     "output_type": "stream",
     "text": [
      "[1 3 4 3 3]\n",
      "      result\n",
      "3176       1\n",
      "6551       4\n",
      "7726       4\n",
      "2488       2\n",
      "854        3\n"
     ]
    }
   ],
   "source": [
    "print(pred_rf[0:5])\n",
    "print(y_test[0:5])"
   ]
  },
  {
   "cell_type": "code",
   "execution_count": 49,
   "metadata": {},
   "outputs": [
    {
     "name": "stdout",
     "output_type": "stream",
     "text": [
      "Acuracy: Random Forest 0.40869565217391307\n"
     ]
    }
   ],
   "source": [
    "print(\"Acuracy: Random Forest\",accuracy_score(y_test,pred_rf))"
   ]
  },
  {
   "cell_type": "code",
   "execution_count": 50,
   "metadata": {},
   "outputs": [
    {
     "name": "stdout",
     "output_type": "stream",
     "text": [
      "Confusion_matrix for Random Forest\n",
      " [[419  19  10   9   3]\n",
      " [ 46 116  96  88 114]\n",
      " [ 14  92 122 131 101]\n",
      " [  5  99 107 121 128]\n",
      " [  1  82 103 112 162]]\n"
     ]
    }
   ],
   "source": [
    "print(\"Confusion_matrix for Random Forest\\n\",confusion_matrix(y_test,pred_rf))"
   ]
  },
  {
   "cell_type": "code",
   "execution_count": 51,
   "metadata": {
    "scrolled": false
   },
   "outputs": [
    {
     "name": "stdout",
     "output_type": "stream",
     "text": [
      "Classification Report for Random Forest\n",
      "               precision    recall  f1-score   support\n",
      "\n",
      "           1       0.86      0.91      0.89       460\n",
      "           2       0.28      0.25      0.27       460\n",
      "           3       0.28      0.27      0.27       460\n",
      "           4       0.26      0.26      0.26       460\n",
      "           5       0.32      0.35      0.33       460\n",
      "\n",
      "    accuracy                           0.41      2300\n",
      "   macro avg       0.40      0.41      0.40      2300\n",
      "weighted avg       0.40      0.41      0.40      2300\n",
      "\n"
     ]
    }
   ],
   "source": [
    "print(\"Classification Report for Random Forest\\n\",classification_report(y_test,pred_rf))"
   ]
  },
  {
   "cell_type": "markdown",
   "metadata": {},
   "source": [
    "# Checking data linearity"
   ]
  },
  {
   "cell_type": "code",
   "execution_count": 52,
   "metadata": {
    "scrolled": true
   },
   "outputs": [],
   "source": [
    "Xl=pd_std.iloc[:,0:178]\n",
    "Yl=epi.iloc[:,178:179]"
   ]
  },
  {
   "cell_type": "code",
   "execution_count": 53,
   "metadata": {},
   "outputs": [],
   "source": [
    "reg=LinearRegression().fit(Xl,Yl)"
   ]
  },
  {
   "cell_type": "code",
   "execution_count": 54,
   "metadata": {},
   "outputs": [
    {
     "name": "stdout",
     "output_type": "stream",
     "text": [
      "Non-linearity:  -26.509826770513737\n"
     ]
    }
   ],
   "source": [
    "print(\"Non-linearity: \",r2_score(reg.predict(Xl),Yl)) # data is non-linear"
   ]
  },
  {
   "cell_type": "markdown",
   "metadata": {},
   "source": [
    "# Extracting features through kernel PCA"
   ]
  },
  {
   "cell_type": "code",
   "execution_count": 55,
   "metadata": {},
   "outputs": [
    {
     "data": {
      "text/plain": [
       "(11500, 35)"
      ]
     },
     "execution_count": 55,
     "metadata": {},
     "output_type": "execute_result"
    }
   ],
   "source": [
    "ker_pca=KernelPCA(n_components=35,kernel='linear')\n",
    "kp=ker_pca.fit_transform(J)\n",
    "kp.shape"
   ]
  },
  {
   "cell_type": "code",
   "execution_count": 56,
   "metadata": {},
   "outputs": [],
   "source": [
    "ker_pca_df=pd.DataFrame(data=kp,columns = ['PC1','PC2','PC3','PC4','PC5','PC6','PC7','PC8','PC9','PC10','PC11','PC12','PC13','PC14','PC15','PC16','PC17','PC18','PC19','PC20','PC21','PC22','PC23','PC24','PC25','PC26','PC27','PC28','PC29','PC30','PC31','PC32','PC33','PC34','PC35'])"
   ]
  },
  {
   "cell_type": "code",
   "execution_count": 57,
   "metadata": {},
   "outputs": [
    {
     "data": {
      "text/plain": [
       "<matplotlib.axes._subplots.AxesSubplot at 0x21819c7dcc0>"
      ]
     },
     "execution_count": 57,
     "metadata": {},
     "output_type": "execute_result"
    },
    {
     "data": {
      "image/png": "[encoded data removed]",
      "text/plain": [
       "<Figure size 720x576 with 2 Axes>"
      ]
     },
     "metadata": {
      "needs_background": "light"
     },
     "output_type": "display_data"
    }
   ],
   "source": [
    "plt.figure(figsize=(10,8))\n",
    "Corr=ker_pca_df[ker_pca_df.columns].corr()\n",
    "sns.heatmap(Corr,cmap=\"YlGn\")"
   ]
  },
  {
   "cell_type": "code",
   "execution_count": 58,
   "metadata": {},
   "outputs": [],
   "source": [
    "y=epi.iloc[:,178:179]\n",
    "y_pd=pd.DataFrame(data=y)\n",
    "ker_pca_df[\"result\"]=y_pd[\"y\"]"
   ]
  },
  {
   "cell_type": "code",
   "execution_count": 59,
   "metadata": {
    "scrolled": true
   },
   "outputs": [],
   "source": [
    "x=ker_pca_df.iloc[:,0:35]\n",
    "y=ker_pca_df.iloc[:,35:36]"
   ]
  },
  {
   "cell_type": "code",
   "execution_count": 60,
   "metadata": {},
   "outputs": [],
   "source": [
    "x_train,x_test,y_train,y_test = train_test_split(x,y,test_size=0.2,random_state=1,stratify=y)"
   ]
  },
  {
   "cell_type": "markdown",
   "metadata": {},
   "source": [
    "# Random Forest"
   ]
  },
  {
   "cell_type": "code",
   "execution_count": 61,
   "metadata": {},
   "outputs": [],
   "source": [
    "Random=RandomForestClassifier(n_estimators=40)\n",
    "Random.fit(x_train,y_train)\n",
    "kp_pred=Random.predict(x_test)"
   ]
  },
  {
   "cell_type": "code",
   "execution_count": 62,
   "metadata": {},
   "outputs": [
    {
     "name": "stdout",
     "output_type": "stream",
     "text": [
      "[1 4 4 2 3]\n",
      "      result\n",
      "3176       1\n",
      "6551       4\n",
      "7726       4\n",
      "2488       2\n",
      "854        3\n"
     ]
    }
   ],
   "source": [
    "print(kp_pred[0:5])\n",
    "print(y_test[0:5])"
   ]
  },
  {
   "cell_type": "code",
   "execution_count": 63,
   "metadata": {},
   "outputs": [
    {
     "data": {
      "text/plain": [
       "Text(0, 0.5, 'Predicted values')"
      ]
     },
     "execution_count": 63,
     "metadata": {},
     "output_type": "execute_result"
    },
    {
     "data": {
      "image/png": "[encoded data removed]",
      "text/plain": [
       "<Figure size 432x288 with 1 Axes>"
      ]
     },
     "metadata": {
      "needs_background": "light"
     },
     "output_type": "display_data"
    }
   ],
   "source": [
    "plt.plot(y_test,kp_pred)\n",
    "plt.xlabel(\"True values\")\n",
    "plt.ylabel(\"Predicted values\")"
   ]
  },
  {
   "cell_type": "code",
   "execution_count": 64,
   "metadata": {},
   "outputs": [
    {
     "data": {
      "text/plain": [
       "['Random Forest', 'Decision Tree', 'SVM']"
      ]
     },
     "execution_count": 64,
     "metadata": {},
     "output_type": "execute_result"
    }
   ],
   "source": [
    "acc=[]\n",
    "cv=[]\n",
    "name=['Random Forest','Decision Tree','SVM']\n",
    "name"
   ]
  },
  {
   "cell_type": "code",
   "execution_count": 65,
   "metadata": {
    "scrolled": true
   },
   "outputs": [
    {
     "name": "stdout",
     "output_type": "stream",
     "text": [
      "Accuracy: Random forest 0.6856521739130435\n"
     ]
    }
   ],
   "source": [
    "print(\"Accuracy: Random forest\",accuracy_score(y_test,kp_pred))\n",
    "acc.append(accuracy_score(y_test,kp_pred))"
   ]
  },
  {
   "cell_type": "code",
   "execution_count": 66,
   "metadata": {},
   "outputs": [
    {
     "name": "stdout",
     "output_type": "stream",
     "text": [
      "Cross-Validation score: Random forest 0.7\n"
     ]
    }
   ],
   "source": [
    "print(\"Cross-Validation score: Random forest\",cross_val_score(Random,x,y,cv=10).mean())\n",
    "cv.append(cross_val_score(Random,x,y,cv=10).mean())"
   ]
  },
  {
   "cell_type": "code",
   "execution_count": 67,
   "metadata": {},
   "outputs": [
    {
     "name": "stdout",
     "output_type": "stream",
     "text": [
      "Confusion matrix for Random Forest\n",
      " [[447   4   2   7   0]\n",
      " [ 30 236 130  22  42]\n",
      " [ 14 128 245  27  46]\n",
      " [  7   7   5 359  82]\n",
      " [  0  41  37  92 290]]\n"
     ]
    }
   ],
   "source": [
    "print(\"Confusion matrix for Random Forest\\n\",confusion_matrix(y_test,kp_pred))"
   ]
  },
  {
   "cell_type": "code",
   "execution_count": 68,
   "metadata": {},
   "outputs": [
    {
     "name": "stdout",
     "output_type": "stream",
     "text": [
      "Classification report for Random Forest\n",
      "               precision    recall  f1-score   support\n",
      "\n",
      "           1       0.90      0.97      0.93       460\n",
      "           2       0.57      0.51      0.54       460\n",
      "           3       0.58      0.53      0.56       460\n",
      "           4       0.71      0.78      0.74       460\n",
      "           5       0.63      0.63      0.63       460\n",
      "\n",
      "    accuracy                           0.69      2300\n",
      "   macro avg       0.68      0.69      0.68      2300\n",
      "weighted avg       0.68      0.69      0.68      2300\n",
      "\n"
     ]
    }
   ],
   "source": [
    "print(\"Classification report for Random Forest\\n\",classification_report(y_test,kp_pred))"
   ]
  },
  {
   "cell_type": "markdown",
   "metadata": {},
   "source": [
    "# Decision Tree"
   ]
  },
  {
   "cell_type": "code",
   "execution_count": 69,
   "metadata": {},
   "outputs": [
    {
     "data": {
      "text/plain": [
       "DecisionTreeClassifier(class_weight=None, criterion='gini', max_depth=None,\n",
       "                       max_features=None, max_leaf_nodes=None,\n",
       "                       min_impurity_decrease=0.0, min_impurity_split=None,\n",
       "                       min_samples_leaf=10, min_samples_split=2,\n",
       "                       min_weight_fraction_leaf=0.0, presort=False,\n",
       "                       random_state=None, splitter='best')"
      ]
     },
     "execution_count": 69,
     "metadata": {},
     "output_type": "execute_result"
    }
   ],
   "source": [
    "D_Tree=DecisionTreeClassifier(criterion='gini',min_samples_leaf=10)\n",
    "D_Tree.fit(x_train,y_train)"
   ]
  },
  {
   "cell_type": "code",
   "execution_count": 70,
   "metadata": {},
   "outputs": [],
   "source": [
    "Tree_predicted=D_Tree.predict(x_test)"
   ]
  },
  {
   "cell_type": "code",
   "execution_count": 71,
   "metadata": {},
   "outputs": [
    {
     "name": "stdout",
     "output_type": "stream",
     "text": [
      "[1 4 5 4 2]\n",
      "      result\n",
      "3176       1\n",
      "6551       4\n",
      "7726       4\n",
      "2488       2\n",
      "854        3\n"
     ]
    }
   ],
   "source": [
    "print(Tree_predicted[0:5])\n",
    "print(y_test[0:5])"
   ]
  },
  {
   "cell_type": "code",
   "execution_count": 72,
   "metadata": {},
   "outputs": [
    {
     "data": {
      "text/plain": [
       "Text(0, 0.5, 'Predicted values')"
      ]
     },
     "execution_count": 72,
     "metadata": {},
     "output_type": "execute_result"
    },
    {
     "data": {
      "image/png": "[encoded data removed]",
      "text/plain": [
       "<Figure size 432x288 with 1 Axes>"
      ]
     },
     "metadata": {
      "needs_background": "light"
     },
     "output_type": "display_data"
    }
   ],
   "source": [
    "plt.plot(y_test,Tree_predicted)\n",
    "plt.xlabel(\"True values\")\n",
    "plt.ylabel(\"Predicted values\")"
   ]
  },
  {
   "cell_type": "code",
   "execution_count": 73,
   "metadata": {},
   "outputs": [
    {
     "name": "stdout",
     "output_type": "stream",
     "text": [
      "Accuracy: Decision Tree 0.5317391304347826\n"
     ]
    }
   ],
   "source": [
    "print(\"Accuracy: Decision Tree\",accuracy_score(y_test,Tree_predicted))\n",
    "acc.append(accuracy_score(y_test,Tree_predicted))"
   ]
  },
  {
   "cell_type": "code",
   "execution_count": 74,
   "metadata": {},
   "outputs": [
    {
     "name": "stdout",
     "output_type": "stream",
     "text": [
      "Cross validation score: Decision Tree 0.5368695652173913\n"
     ]
    }
   ],
   "source": [
    "print(\"Cross validation score: Decision Tree\",cross_val_score(D_Tree,x,y,cv=10).mean())\n",
    "cv.append(cross_val_score(D_Tree,x,y,cv=10).mean())"
   ]
  },
  {
   "cell_type": "code",
   "execution_count": 75,
   "metadata": {},
   "outputs": [
    {
     "name": "stdout",
     "output_type": "stream",
     "text": [
      "Confusion matrix for Decision Tree\n",
      " [[395  30  11  17   7]\n",
      " [ 26 178 133  45  78]\n",
      " [ 16 135 190  34  85]\n",
      " [ 22  43  29 271  95]\n",
      " [  7  81  75 108 189]]\n"
     ]
    }
   ],
   "source": [
    "print(\"Confusion matrix for Decision Tree\\n\",confusion_matrix(y_test,Tree_predicted))"
   ]
  },
  {
   "cell_type": "code",
   "execution_count": 76,
   "metadata": {},
   "outputs": [
    {
     "name": "stdout",
     "output_type": "stream",
     "text": [
      "Classification report for Decision Tree\n",
      "               precision    recall  f1-score   support\n",
      "\n",
      "           1       0.85      0.86      0.85       460\n",
      "           2       0.38      0.39      0.38       460\n",
      "           3       0.43      0.41      0.42       460\n",
      "           4       0.57      0.59      0.58       460\n",
      "           5       0.42      0.41      0.41       460\n",
      "\n",
      "    accuracy                           0.53      2300\n",
      "   macro avg       0.53      0.53      0.53      2300\n",
      "weighted avg       0.53      0.53      0.53      2300\n",
      "\n"
     ]
    }
   ],
   "source": [
    "print(\"Classification report for Decision Tree\\n\",classification_report(y_test,Tree_predicted))"
   ]
  },
  {
   "cell_type": "markdown",
   "metadata": {},
   "source": [
    "# SVM"
   ]
  },
  {
   "cell_type": "code",
   "execution_count": 77,
   "metadata": {},
   "outputs": [
    {
     "data": {
      "text/plain": [
       "SVC(C=1.0, cache_size=200, class_weight='balanced', coef0=0.0,\n",
       "    decision_function_shape='ovr', degree=3, gamma='auto', kernel='rbf',\n",
       "    max_iter=-1, probability=False, random_state=None, shrinking=True,\n",
       "    tol=0.001, verbose=False)"
      ]
     },
     "execution_count": 77,
     "metadata": {},
     "output_type": "execute_result"
    }
   ],
   "source": [
    "SV=svm.SVC(kernel='rbf',gamma='auto',class_weight='balanced')\n",
    "SV.fit(x_train,y_train)"
   ]
  },
  {
   "cell_type": "code",
   "execution_count": 78,
   "metadata": {},
   "outputs": [],
   "source": [
    "y_pred=SV.predict(x_test)"
   ]
  },
  {
   "cell_type": "code",
   "execution_count": 79,
   "metadata": {},
   "outputs": [
    {
     "name": "stdout",
     "output_type": "stream",
     "text": [
      "[1 5 5 2 5]\n",
      "      result\n",
      "3176       1\n",
      "6551       4\n",
      "7726       4\n",
      "2488       2\n",
      "854        3\n"
     ]
    }
   ],
   "source": [
    "print(y_pred[0:5])\n",
    "print(y_test[0:5])"
   ]
  },
  {
   "cell_type": "code",
   "execution_count": 80,
   "metadata": {},
   "outputs": [
    {
     "data": {
      "text/plain": [
       "Text(0, 0.5, 'Predicted values')"
      ]
     },
     "execution_count": 80,
     "metadata": {},
     "output_type": "execute_result"
    },
    {
     "data": {
      "image/png": "[encoded data removed]",
      "text/plain": [
       "<Figure size 432x288 with 1 Axes>"
      ]
     },
     "metadata": {
      "needs_background": "light"
     },
     "output_type": "display_data"
    }
   ],
   "source": [
    "plt.plot(y_test,y_pred)\n",
    "plt.xlabel(\"True values\")\n",
    "plt.ylabel(\"Predicted values\")"
   ]
  },
  {
   "cell_type": "code",
   "execution_count": 81,
   "metadata": {},
   "outputs": [
    {
     "name": "stdout",
     "output_type": "stream",
     "text": [
      "Accuracy:SVM 0.6469565217391304\n"
     ]
    }
   ],
   "source": [
    "print(\"Accuracy:SVM\",accuracy_score(y_test,y_pred))\n",
    "acc.append(accuracy_score(y_test,y_pred))"
   ]
  },
  {
   "cell_type": "code",
   "execution_count": 82,
   "metadata": {},
   "outputs": [
    {
     "name": "stdout",
     "output_type": "stream",
     "text": [
      "Cross validation score: SVM 0.6487826086956521\n"
     ]
    }
   ],
   "source": [
    "print(\"Cross validation score: SVM\",cross_val_score(SV,x,y,cv=10).mean())\n",
    "cv.append(cross_val_score(SV,x,y,cv=10).mean())"
   ]
  },
  {
   "cell_type": "code",
   "execution_count": 83,
   "metadata": {},
   "outputs": [
    {
     "name": "stdout",
     "output_type": "stream",
     "text": [
      "Confusion matrix for SVM\n",
      " [[449   7   1   3   0]\n",
      " [ 33 146 107  10 164]\n",
      " [  7  65 197  12 179]\n",
      " [  7  18  11 303 121]\n",
      " [  0  10  30  27 393]]\n"
     ]
    }
   ],
   "source": [
    "print(\"Confusion matrix for SVM\\n\",confusion_matrix(y_test,y_pred))"
   ]
  },
  {
   "cell_type": "code",
   "execution_count": 84,
   "metadata": {},
   "outputs": [
    {
     "name": "stdout",
     "output_type": "stream",
     "text": [
      "Classification report for SVM\n",
      "               precision    recall  f1-score   support\n",
      "\n",
      "           1       0.91      0.98      0.94       460\n",
      "           2       0.59      0.32      0.41       460\n",
      "           3       0.57      0.43      0.49       460\n",
      "           4       0.85      0.66      0.74       460\n",
      "           5       0.46      0.85      0.60       460\n",
      "\n",
      "    accuracy                           0.65      2300\n",
      "   macro avg       0.68      0.65      0.64      2300\n",
      "weighted avg       0.68      0.65      0.64      2300\n",
      "\n"
     ]
    }
   ],
   "source": [
    "print(\"Classification report for SVM\\n\",classification_report(y_test,y_pred))"
   ]
  },
  {
   "cell_type": "markdown",
   "metadata": {},
   "source": [
    "# Comparison"
   ]
  },
  {
   "cell_type": "code",
   "execution_count": 85,
   "metadata": {},
   "outputs": [
    {
     "data": {
      "text/html": [
       "<div>\n",
       "<style scoped>\n",
       "    .dataframe tbody tr th:only-of-type {\n",
       "        vertical-align: middle;\n",
       "    }\n",
       "\n",
       "    .dataframe tbody tr th {\n",
       "        vertical-align: top;\n",
       "    }\n",
       "\n",
       "    .dataframe thead th {\n",
       "        text-align: right;\n",
       "    }\n",
       "</style>\n",
       "<table border=\"1\" class=\"dataframe\">\n",
       "  <thead>\n",
       "    <tr style=\"text-align: right;\">\n",
       "      <th></th>\n",
       "      <th>Algorithm</th>\n",
       "      <th>Accuracy score</th>\n",
       "      <th>Cross-validation score</th>\n",
       "    </tr>\n",
       "  </thead>\n",
       "  <tbody>\n",
       "    <tr>\n",
       "      <th>0</th>\n",
       "      <td>Random Forest</td>\n",
       "      <td>0.685652</td>\n",
       "      <td>0.697478</td>\n",
       "    </tr>\n",
       "    <tr>\n",
       "      <th>1</th>\n",
       "      <td>Decision Tree</td>\n",
       "      <td>0.531739</td>\n",
       "      <td>0.535565</td>\n",
       "    </tr>\n",
       "    <tr>\n",
       "      <th>2</th>\n",
       "      <td>SVM</td>\n",
       "      <td>0.646957</td>\n",
       "      <td>0.648783</td>\n",
       "    </tr>\n",
       "  </tbody>\n",
       "</table>\n",
       "</div>"
      ],
      "text/plain": [
       "       Algorithm  Accuracy score  Cross-validation score\n",
       "0  Random Forest        0.685652                0.697478\n",
       "1  Decision Tree        0.531739                0.535565\n",
       "2            SVM        0.646957                0.648783"
      ]
     },
     "execution_count": 85,
     "metadata": {},
     "output_type": "execute_result"
    }
   ],
   "source": [
    "comparison_table=pd.DataFrame(name,columns=['Algorithm'])\n",
    "comparison_table[\"Accuracy score\"]=acc\n",
    "comparison_table[\"Cross-validation score\"]=cv\n",
    "comparison_table"
   ]
  },
  {
   "cell_type": "markdown",
   "metadata": {},
   "source": [
    "# Result"
   ]
  },
  {
   "cell_type": "markdown",
   "metadata": {},
   "source": [
    "Comparison shows Random Forest is the Victor!"
   ]
  },
  {
   "cell_type": "markdown",
   "metadata": {},
   "source": [
    "# Visualizing the final result obtained from Random forest"
   ]
  },
  {
   "cell_type": "code",
   "execution_count": 86,
   "metadata": {},
   "outputs": [
    {
     "data": {
      "text/plain": [
       "<matplotlib.axes._subplots.AxesSubplot at 0x2181e9c7e48>"
      ]
     },
     "execution_count": 86,
     "metadata": {},
     "output_type": "execute_result"
    },
    {
     "data": {
      "image/png": "[encoded data removed]",
      "text/plain": [
       "<Figure size 432x288 with 1 Axes>"
      ]
     },
     "metadata": {
      "needs_background": "light"
     },
     "output_type": "display_data"
    }
   ],
   "source": [
    "a=pd.DataFrame(y_test)\n",
    "k=pd.DataFrame(kp_pred,columns=['Prediction'])\n",
    "a[\"prediction\"]=k[\"Prediction\"]\n",
    "sns.violinplot(a[\"prediction\"],color=\"pink\")"
   ]
  },
  {
   "cell_type": "code",
   "execution_count": 87,
   "metadata": {},
   "outputs": [
    {
     "data": {
      "text/plain": [
       "<matplotlib.axes._subplots.AxesSubplot at 0x2181e99b978>"
      ]
     },
     "execution_count": 87,
     "metadata": {},
     "output_type": "execute_result"
    },
    {
     "data": {
      "image/png": "[encoded data removed]",
      "text/plain": [
       "<Figure size 432x288 with 1 Axes>"
      ]
     },
     "metadata": {
      "needs_background": "light"
     },
     "output_type": "display_data"
    }
   ],
   "source": [
    "sns.violinplot(a[\"result\"],color=\"orange\")"
   ]
  },
  {
   "cell_type": "code",
   "execution_count": 88,
   "metadata": {},
   "outputs": [
    {
     "data": {
      "text/plain": [
       "<matplotlib.axes._subplots.AxesSubplot at 0x218195e7080>"
      ]
     },
     "execution_count": 88,
     "metadata": {},
     "output_type": "execute_result"
    },
    {
     "data": {
      "image/png": "[encoded data removed]",
      "text/plain": [
       "<Figure size 432x288 with 1 Axes>"
      ]
     },
     "metadata": {
      "needs_background": "light"
     },
     "output_type": "display_data"
    }
   ],
   "source": [
    "sns.countplot(a[\"result\"])"
   ]
  },
  {
   "cell_type": "code",
   "execution_count": 89,
   "metadata": {},
   "outputs": [
    {
     "data": {
      "text/plain": [
       "<matplotlib.axes._subplots.AxesSubplot at 0x218197c52b0>"
      ]
     },
     "execution_count": 89,
     "metadata": {},
     "output_type": "execute_result"
    },
    {
     "data": {
      "image/png": "[encoded data removed]",
      "text/plain": [
       "<Figure size 432x288 with 1 Axes>"
      ]
     },
     "metadata": {
      "needs_background": "light"
     },
     "output_type": "display_data"
    }
   ],
   "source": [
    "sns.countplot(a[\"prediction\"])"
   ]
  }
 ],
 "metadata": {
  "kernelspec": {
   "display_name": "Python 3",
   "language": "python",
   "name": "python3"
  },
  "language_info": {
   "codemirror_mode": {
    "name": "ipython",
    "version": 3
   },
   "file_extension": ".py",
   "mimetype": "text/x-python",
   "name": "python",
   "nbconvert_exporter": "python",
   "pygments_lexer": "ipython3",
   "version": "3.7.3"
  }
 },
 "nbformat": 4,
 "nbformat_minor": 2
}
